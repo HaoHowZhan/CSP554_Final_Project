{
 "cells": [
  {
   "cell_type": "code",
   "execution_count": 1,
   "metadata": {},
   "outputs": [],
   "source": [
    "import findspark\n",
    "findspark.init(\"/usr/hdp/2.6.5.0-292/spark2\")\n",
    "import pyspark\n",
    "sc = pyspark.SparkContext()"
   ]
  },
  {
   "cell_type": "code",
   "execution_count": 2,
   "metadata": {},
   "outputs": [],
   "source": [
    "import pandas as pd\n",
    "import pyspark\n",
    "from pyspark.sql import SQLContext\n",
    "sqlContext = SQLContext(sc)"
   ]
  },
  {
   "cell_type": "code",
   "execution_count": 3,
   "metadata": {},
   "outputs": [],
   "source": [
    "from nltk.corpus import stopwords\n",
    "import re as re"
   ]
  },
  {
   "cell_type": "code",
   "execution_count": 4,
   "metadata": {},
   "outputs": [],
   "source": [
    "from pyspark.ml.feature import CountVectorizer , IDF"
   ]
  },
  {
   "cell_type": "code",
   "execution_count": 5,
   "metadata": {},
   "outputs": [],
   "source": [
    "from pyspark.mllib.linalg import Vector, Vectors\n",
    "from pyspark.mllib.clustering import LDA, LDAModel"
   ]
  },
  {
   "cell_type": "code",
   "execution_count": 6,
   "metadata": {},
   "outputs": [
    {
     "data": {
      "text/plain": [
       "465160"
      ]
     },
     "execution_count": 6,
     "metadata": {},
     "output_type": "execute_result"
    }
   ],
   "source": [
    "sqlContext.read.csv('/user/maria_dev/data/newsarticles_article.csv', sep=',', escape='\"', header=True, \n",
    "               inferSchema=True, multiLine=True).count()"
   ]
  },
  {
   "cell_type": "code",
   "execution_count": 7,
   "metadata": {},
   "outputs": [],
   "source": [
    "data = sqlContext.read.csv('/user/maria_dev/data/newsarticles_article.csv', sep=',', escape='\"', header=False, \n",
    "               inferSchema=True, multiLine=True)"
   ]
  },
  {
   "cell_type": "code",
   "execution_count": 8,
   "metadata": {},
   "outputs": [
    {
     "data": {
      "text/plain": [
       "Row(_c0=122140, _c1='A', _c2='http://abclocal.go.com/wls/story?section=news/local&id=9240864&rss=rss-wls-article-9240864', _c3=None, _c4='Ventra cards available for all users Monday | abc7chicago.com', _c5=\"![][1]\\n\\nSeptember 8, 2013 (CHICAGO) (WLS) --  Monday is a big day for the Chicago\\nTransit Authority and Pace as they roll out the Ventra Cards for all riders.\\n\\nVentra was rolled out to U-Pass Chicago card holders and Chicago Public School\\nstudents first.\\n\\nNow, all CTA users will be able to use the new system.\\n\\n####  Related Content\\n\\n[ Story:  CTA's Ventra cards in service Monday ][2]\\n\\n[ Story:  Ventra cards for sale online, by phone, at stores ][3]\\n\\n[ Story:  CTA waives Ventra card's $5 one-time fee ][4]\\n\\n[ Story:  CTA says it has fixed Ventra fare card glitch ][5]\\n\\n[ Story:  Ventra card use starting on CTA, Pace ][6]\\n\\n[ Story:  CTA, Pace to launch Ventra payment system ][7]\\n\\n[ Story:  August launch for CTA, Pace Ventra system ][8]\\n\\n[ Story:  CTA defends Ventra fare payment system ][9]\\n\\nYour existing fare cards will still work but that system will be discontinued\\nat the end of the year.\\n\\nCTA says it will have extra workers at train stations during the morning and\\nevening commute to answer any questions you may have.\\n\\n(Copyright (C)2013 WLS-TV/DT. All Rights Reserved.)\\n\\n  \\n\\n[ Get more Local » ][10]\\n\\n  \\n[ cta news ][11] , [ local ][10]\\n\\n   [1]: http://cdn.abclocal.go.com/static/art/global/icon_wls_byline.gif\\n   [2]: /wls/story?section=news/local&id=9236439\\n   [3]: /wls/story?section=news/local&id=9226109\\n   [4]: /wls/story?section=news/local&id=9225436\\n   [5]: /wls/story?section=news/local&id=9222561\\n   [6]: /wls/story?section=news/local&id=9195545\\n   [7]: /wls/story?section=news/local&id=9188601\\n   [8]: /wls/story?section=news/local&id=9151906\\n   [9]: /wls/story?section=news/local&id=9048809\\n   [10]: explore?section=wls/news/local\\n   [11]: explore?tag=cta-news\\n\", _c6='f', _c7='2013-09-09 14:09:06.165191+00', _c8='2013-09-23 14:38:23.080001+00', _c9=98, _c10=None)"
      ]
     },
     "execution_count": 8,
     "metadata": {},
     "output_type": "execute_result"
    }
   ],
   "source": [
    "data.head()"
   ]
  },
  {
   "cell_type": "code",
   "execution_count": 9,
   "metadata": {},
   "outputs": [
    {
     "data": {
      "text/plain": [
       "23331"
      ]
     },
     "execution_count": 9,
     "metadata": {},
     "output_type": "execute_result"
    }
   ],
   "source": [
    "data2 = data.sample(False, 0.05, seed=0)\n",
    "data2.count()"
   ]
  },
  {
   "cell_type": "code",
   "execution_count": 10,
   "metadata": {},
   "outputs": [],
   "source": [
    "data= None"
   ]
  },
  {
   "cell_type": "code",
   "execution_count": 11,
   "metadata": {},
   "outputs": [],
   "source": [
    "reviews = data2.rdd.map(lambda x : x['_c5']).filter(lambda x: x is not None)"
   ]
  },
  {
   "cell_type": "code",
   "execution_count": 12,
   "metadata": {},
   "outputs": [
    {
     "data": {
      "text/plain": [
       "['• ** Felicia the ferret ** helped clean the lab’s long, narrow pipes during\\nthe ’70s. She would scurry through a pipe with a string tied to her harness.\\nWhen she came out the other end, staff attached a giant cotton swab to the\\nstring and pulled it back through.\\n\\n• In 1992, Fermilab launched the ** third website ever ** . The World Wide Web\\nwas created, after all, to exchange particle physics data.\\n\\n• A ** 50-foot-wide electromagnet ** used for collecting data on subatomic\\nparticles made a 35-day journey from Long Island by barge and flatbed truck in\\n2013. It barely cleared the sides of the toll arches along Interstate 355 when\\nit got to Illinois.\\n\\n• Contrary to rumors, the ** bison ** at the lab weren’t introduced to\\nforewarn of dangerous levels of radioactivity but to serve as a metaphor for\\nthe frontier of high-energy physics.\\n\\n_ Find out more about Fermilab’s\\xa0Family Day on February 12 [ here ][1] . _\\n\\nThis article appears in the [ February\\xa02017 ][2] issue of _ Chicago _\\nmagazine. [ Subscribe to _ Chicago _ magazine ][3] .\\n\\n[ Other Education stories ][4]\\n\\n[ ][5]\\n\\n2 weeks ago\\n\\n[ ][6]\\n\\n2 weeks ago\\n\\n[ ][7]\\n\\n3 weeks ago\\n\\n[ ][8]\\n\\n4 weeks ago\\n\\n   [1]: http://news.fnal.gov/2017/01/celebrate-fermilabs-50th-family-open-house-\\nfeb-12/\\n   [2]: /Chicago-Magazine/February-2017/\\n   [3]: http://www.chicagomag.com/subscribe\\n   [4]: /topic/?archive=education\\n   [5]: /Chicago-Magazine/February-2017/Illinois-College-Student-Loss/\\n   [6]: /city-life/January-2017/Police-Holocaust-Museum-Training/\\n   [7]: /city-life/January-2017/Illinois-Colleges-Income/\\n   [8]: /city-life/January-2017/How-College-Football-Brings-in-Big-Money-for-Uni\\nversity-Research/\\n']"
      ]
     },
     "execution_count": 12,
     "metadata": {},
     "output_type": "execute_result"
    }
   ],
   "source": [
    "reviews.top(1)"
   ]
  },
  {
   "cell_type": "code",
   "execution_count": 13,
   "metadata": {},
   "outputs": [
    {
     "name": "stderr",
     "output_type": "stream",
     "text": [
      "[nltk_data] Downloading package stopwords to\n",
      "[nltk_data]     /home/maria_dev/nltk_data...\n",
      "[nltk_data]   Package stopwords is already up-to-date!\n"
     ]
    }
   ],
   "source": [
    "import nltk\n",
    "nltk.download('stopwords')\n",
    "StopWords = stopwords.words(\"english\")"
   ]
  },
  {
   "cell_type": "code",
   "execution_count": 14,
   "metadata": {},
   "outputs": [],
   "source": [
    "tokens = reviews.map( lambda document: document.replace('\\r', '').replace('\\n', ' ').replace('\\xa0', ' ').strip().lower()).map( lambda document: re.split(\" \", document)).map( lambda word: [x for x in word if x.isalpha()]).map( lambda word: [x for x in word if len(x) > 3] ).map( lambda word: [x for x in word if x not in StopWords]).zipWithIndex()"
   ]
  },
  {
   "cell_type": "code",
   "execution_count": 15,
   "metadata": {},
   "outputs": [],
   "source": [
    "df_txts = sqlContext.createDataFrame(tokens, [\"list_of_words\",'index'])"
   ]
  },
  {
   "cell_type": "code",
   "execution_count": 16,
   "metadata": {},
   "outputs": [],
   "source": [
    "cv = CountVectorizer(inputCol=\"list_of_words\", outputCol=\"raw_features\", vocabSize=5000, minDF=10.0)\n",
    "cvmodel = cv.fit(df_txts)\n",
    "result_cv = cvmodel.transform(df_txts)"
   ]
  },
  {
   "cell_type": "code",
   "execution_count": 17,
   "metadata": {},
   "outputs": [],
   "source": [
    "idf = IDF(inputCol=\"raw_features\", outputCol=\"features\")\n",
    "idfModel = idf.fit(result_cv)\n",
    "result_tfidf = idfModel.transform(result_cv) "
   ]
  },
  {
   "cell_type": "code",
   "execution_count": 18,
   "metadata": {
    "scrolled": false
   },
   "outputs": [
    {
     "data": {
      "text/plain": [
       "[Row(list_of_words=['city', 'ordinance', 'brings', 'changes', 'public', 'transit', 'monday', 'september', 'politics', 'story', 'reporter', 'bill', 'cameron', 'city', 'aldermen', 'reluctantly', 'gutted', 'former', 'mayor', 'richard', 'ordinance', 'order', 'bring', 'compliance', 'concealed', 'carry', 'ordinance', 'still', 'remaining', 'requirement', 'owners', 'home', 'keep', 'guns', 'secure', 'either', 'locked', 'trigger', 'debate', 'alderman', 'burke', 'maneuvered', 'lobbyist', 'todd', 'vandermyde', 'opposing', 'blanket', 'rule', 'generally', 'burke', 'oppose', 'ordinance', 'tries', 'increase', 'safety', 'homes', 'oppose', 'safety', 'measures', 'impediment', 'lawful', 'wrinkle', 'ordinance', 'requires', 'movie', 'makers', 'theaters', 'using', 'guns', 'armourer', 'million', 'dollars', 'liability', 'aldermen', 'enhanced', 'penalties', 'violations', 'around', 'buses', 'around', 'stops', 'even', 'vandermyde', 'objects', 'prohibitions', 'guns', 'vandermyde', 'increased', 'penalties', 'illegally', 'going', 'guns', 'rare', 'case', 'control', 'rights', 'content', 'copyright', 'radio', 'material', 'rewritten', 'politics'], index=0, raw_features=SparseVector(5000, {15: 1.0, 16: 1.0, 19: 2.0, 22: 1.0, 29: 1.0, 50: 2.0, 54: 1.0, 64: 1.0, 66: 1.0, 109: 1.0, 120: 1.0, 125: 1.0, 158: 1.0, 176: 1.0, 183: 1.0, 232: 1.0, 270: 1.0, 348: 1.0, 350: 1.0, 434: 1.0, 463: 1.0, 477: 1.0, 501: 2.0, 556: 1.0, 633: 1.0, 651: 1.0, 661: 1.0, 675: 1.0, 737: 1.0, 762: 1.0, 913: 1.0, 996: 1.0, 1061: 1.0, 1107: 2.0, 1131: 1.0, 1142: 1.0, 1211: 1.0, 1351: 4.0, 1352: 1.0, 1479: 1.0, 1530: 1.0, 1599: 1.0, 1705: 1.0, 1807: 1.0, 1898: 1.0, 1976: 1.0, 1995: 1.0, 2062: 2.0, 2194: 5.0, 2301: 1.0, 2316: 1.0, 2535: 1.0, 2635: 1.0, 2707: 1.0, 2875: 1.0, 2895: 1.0, 3086: 1.0, 3284: 1.0, 3459: 1.0, 3471: 1.0, 3702: 2.0, 3719: 1.0, 3930: 2.0, 3959: 1.0, 4019: 2.0, 4095: 1.0}), features=SparseVector(5000, {15: 1.42, 16: 1.4665, 19: 3.6259, 22: 1.5916, 29: 1.5623, 50: 3.3038, 54: 1.9565, 64: 1.9801, 66: 2.1622, 109: 1.9805, 120: 2.0797, 125: 2.0749, 158: 2.3799, 176: 2.7055, 183: 2.4868, 232: 2.8895, 270: 2.5656, 348: 2.6727, 350: 2.6585, 434: 2.6616, 463: 2.9968, 477: 2.932, 501: 6.2516, 556: 2.968, 633: 3.2232, 651: 3.2593, 661: 3.5974, 675: 3.2571, 737: 3.2593, 762: 3.4306, 913: 3.5441, 996: 3.4906, 1061: 3.7731, 1107: 7.4023, 1131: 3.8629, 1142: 3.7099, 1211: 3.5605, 1351: 17.0207, 1352: 3.7977, 1479: 4.0387, 1530: 4.0835, 1599: 3.8427, 1705: 3.9682, 1807: 4.0534, 1898: 4.5121, 1976: 4.133, 1995: 4.4369, 2062: 9.392, 2194: 23.973, 2301: 4.2225, 2316: 4.188, 2535: 4.4369, 2635: 4.4738, 2707: 4.5043, 2875: 4.6501, 2895: 4.5479, 3086: 4.7102, 3284: 4.7392, 3459: 5.4723, 3471: 5.1669, 3702: 9.9518, 3719: 4.9635, 3930: 11.0928, 3959: 5.0668, 4019: 10.3339, 4095: 5.1373})),\n",
       " Row(list_of_words=['illinois', 'casinos', 'want', 'operate', 'around', 'clock', 'september', 'headlines', 'business', 'traveler', 'sentenced', 'flight', 'groping', 'case', 'mead', 'johnson', 'back', 'million', 'shares', 'chicago', 'gets', 'biggest', 'credit', 'rating', 'pension', 'review', 'sears', 'shares', 'fall', 'credit', 'suisse', 'questions', 'bullish', 'call', 'want', 'know', 'obamacare', 'rates', 'look', 'wait', 'motorola', 'mobility', 'back', 'court', 'mobile', 'phone', 'patent', 'lawsuit', 'view', 'news', 'headlines', 'riverboat', 'casinos', 'illinois', 'want', 'remain', 'open', 'business', 'around', 'illinois', 'casino', 'gaming', 'association', 'asking', 'state', 'regulators', 'operate', 'hours', 'casinos', 'open', 'illinois', 'gaming', 'board', 'scheduled', 'public', 'hearing', 'chicago', 'consider', 'swoik', 'executive', 'director', 'casino', 'gaming', 'represents', 'says', 'video', 'gaming', 'already', 'available', 'around', 'clock', 'places', 'truck', 'swoik', 'says', 'operations', 'would', 'raise', 'revenue', 'casinos', 'state', 'create', 'opponents', 'extending', 'casino', 'hours', 'create', 'problems', 'compulsive', 'would', 'never', 'leave', 'sponsored', 'chicago', 'business', 'story', 'friends', 'please', 'enter', 'information', 'requested', 'link', 'casinos', 'want', 'operate', 'around', 'friends', 'email', 'email', 'multiple', 'addresses', 'link', 'business', 'traveler', 'sentenced', 'flight', 'groping', 'link', 'mead', 'johnson', 'back', 'million', 'link', 'chicago', 'gets', 'biggest', 'credit', 'rating', 'pension', 'link', 'sears', 'shares', 'fall', 'credit', 'isse', 'questions', 'bullish', 'link', 'want', 'know', 'bamacare', 'rates', 'look', 'link', 'motorola', 'mobility', 'back', 'mobile', 'phone', 'patent'], index=1, raw_features=SparseVector(5000, {1: 4.0, 3: 2.0, 12: 2.0, 14: 4.0, 20: 4.0, 23: 2.0, 32: 5.0, 38: 1.0, 41: 2.0, 50: 4.0, 54: 1.0, 62: 1.0, 66: 2.0, 76: 1.0, 95: 2.0, 111: 1.0, 138: 1.0, 156: 2.0, 158: 1.0, 162: 4.0, 166: 2.0, 183: 1.0, 196: 1.0, 201: 1.0, 222: 1.0, 244: 2.0, 248: 1.0, 323: 2.0, 340: 7.0, 377: 1.0, 402: 1.0, 410: 1.0, 416: 1.0, 417: 2.0, 449: 1.0, 479: 1.0, 505: 2.0, 541: 2.0, 571: 1.0, 577: 2.0, 581: 1.0, 624: 2.0, 633: 1.0, 656: 2.0, 674: 1.0, 700: 2.0, 701: 1.0, 732: 1.0, 757: 1.0, 775: 2.0, 791: 4.0, 829: 1.0, 833: 1.0, 993: 1.0, 1017: 1.0, 1051: 1.0, 1070: 2.0, 1089: 1.0, 1097: 1.0, 1117: 2.0, 1271: 1.0, 1303: 1.0, 1339: 2.0, 1439: 1.0, 1676: 2.0, 1784: 1.0, 1882: 1.0, 1982: 3.0, 2010: 1.0, 2088: 2.0, 2282: 1.0, 2323: 2.0, 2667: 1.0, 2762: 2.0, 2939: 1.0, 3310: 3.0, 3673: 3.0, 4171: 2.0, 4651: 1.0}), features=SparseVector(5000, {1: 2.996, 3: 2.1464, 12: 3.48, 14: 5.4118, 20: 7.6134, 23: 3.1652, 32: 8.3521, 38: 1.6998, 41: 3.6662, 50: 6.6077, 54: 1.9565, 62: 1.8675, 66: 4.3244, 76: 2.2265, 95: 4.0151, 111: 2.0373, 138: 2.1445, 156: 4.3896, 158: 2.3799, 162: 9.89, 166: 4.6595, 183: 2.4868, 196: 2.3054, 201: 2.7807, 222: 2.6524, 244: 5.2366, 248: 2.5814, 323: 5.2734, 340: 24.85, 377: 2.7954, 402: 2.7074, 410: 2.9352, 416: 2.8031, 417: 5.6753, 449: 2.7891, 479: 2.9336, 505: 6.0582, 541: 6.3151, 571: 2.9731, 577: 6.1377, 581: 3.1475, 624: 6.2419, 633: 3.2232, 656: 7.2909, 674: 3.6308, 700: 6.3333, 701: 3.1728, 732: 3.3085, 757: 3.1914, 775: 8.5531, 791: 14.5232, 829: 3.3003, 833: 3.398, 993: 3.6772, 1017: 3.522, 1051: 3.5279, 1070: 7.565, 1089: 3.5048, 1097: 3.8711, 1117: 8.2876, 1271: 4.1852, 1303: 3.7437, 1339: 7.9229, 1439: 3.7347, 1676: 8.3703, 1784: 3.9414, 1882: 4.0809, 1982: 13.0906, 2010: 4.2643, 2088: 8.5531, 2282: 4.2022, 2323: 11.3505, 2667: 4.5318, 2762: 9.5583, 2939: 5.1669, 3310: 14.1163, 3673: 16.2677, 4171: 10.0668, 4651: 5.6029})),\n",
       " Row(list_of_words=['uptown', 'nobody', 'cubs', 'reds', 'comments', 'tweet', 'felzz', 'monday', 'nobody', 'cubs', 'reds', 'losers', 'series', 'fellow', 'cellar', 'dwellers', 'milwaukee', 'come', 'cincinnati', 'face', 'team', 'hockeyed', 'cubs', 'around', 'baseball', 'field', 'season', 'sweeping', 'angeles', 'travis', 'wood', 'throws', 'best', 'game', 'year', 'cubs', 'shut', 'reds', 'ladies', 'cubs', 'runs', 'getting', 'solo', 'ryan', 'sweeney', 'cubs', 'board', 'solo', 'shot', 'right', 'luis', 'valbuena', 'yard', 'work', 'third', 'home', 'travis', 'made', 'quick', 'work', 'insufferable', 'yakkers', 'thom', 'brenneman', 'chris', 'welsh', 'special', 'guest', 'morgan', 'quicker', 'work', 'thank', 'head', 'find', 'travis', 'wood', 'unbelievable', 'shutting', 'reds', 'line', 'travis', 'percent', 'strikes', 'even', 'pitches', 'considering', 'breath', 'degrees', 'game', 'time', 'sayin', 'travis', 'would', 'wind', 'striking', 'allowing', 'hopefully', 'others', 'follow', 'vote', 'pedro', 'worked', 'around', 'hits', 'throw', 'scoreless', 'innings', 'hold', 'save', 'luis', 'valbuena', 'fairly', 'good', 'going', 'four', 'scoring', 'ever', 'important', 'insurance', 'baseball', 'running', 'gaffe', 'never', 'teeth', 'grinding', 'second', 'base', 'dioner', 'navarro', 'hits', 'single', 'dave', 'bell', 'wendell', 'hell', 'sending', 'valbuena', 'valbuena', 'busy', 'staring', 'dioner', 'navarro', 'late', 'getting', 'valbuena', 'holds', 'assuming', 'valbuena', 'going', 'home', 'baseball', 'players', 'would', 'makes', 'aggressive', 'turn', 'around', 'picked', 'opportunistic', 'brandon', 'sveum', 'probably', 'sends', 'sweeney', 'sweeney', 'free', 'ryan', 'sweeney', 'seems', 'line', 'things', 'love', 'sound', 'ball', 'makes', 'coming', 'really', 'like', 'plays', 'really', 'along', 'junior', 'interest', 'coming', 'back', 'next', 'hoping', 'strong', 'good', 'formerly', 'next', 'would', 'really', 'reds', 'much', 'lesser', 'evil', 'cubs', 'play', 'want', 'take', 'cubs', 'well', 'lose', 'valuable', 'game', 'multiple', 'jackson', 'takes', 'mound', 'tomorrow', 'night', 'tony', 'means', 'righty', 'things', 'looked', 'dark', 'dudes', 'tonight', 'look', 'least', 'keep', 'interested', 'till', 'sons', 'filed', 'uncategorized', 'cubs', 'insufferable', 'yakkers', 'luis', 'valbuena', 'ryan', 'sweeney', 'travis', 'wood', 'tweet'], index=2, raw_features=SparseVector(5000, {3: 3.0, 5: 1.0, 9: 1.0, 14: 1.0, 15: 1.0, 16: 2.0, 22: 2.0, 24: 2.0, 26: 1.0, 27: 1.0, 28: 2.0, 31: 1.0, 32: 1.0, 37: 1.0, 43: 3.0, 44: 1.0, 45: 2.0, 46: 1.0, 47: 3.0, 48: 3.0, 50: 3.0, 53: 9.0, 55: 1.0, 56: 1.0, 62: 1.0, 65: 1.0, 67: 1.0, 75: 1.0, 78: 1.0, 87: 1.0, 91: 1.0, 95: 1.0, 98: 2.0, 99: 1.0, 103: 1.0, 104: 1.0, 120: 1.0, 121: 1.0, 123: 1.0, 125: 1.0, 136: 2.0, 140: 1.0, 157: 1.0, 179: 1.0, 186: 1.0, 199: 1.0, 201: 1.0, 206: 1.0, 207: 2.0, 214: 1.0, 219: 1.0, 226: 1.0, 236: 1.0, 253: 2.0, 260: 2.0, 269: 1.0, 275: 1.0, 280: 1.0, 283: 1.0, 325: 1.0, 339: 1.0, 363: 1.0, 386: 1.0, 389: 1.0, 390: 1.0, 433: 1.0, 439: 1.0, 443: 1.0, 449: 1.0, 451: 1.0, 459: 1.0, 493: 3.0, 496: 1.0, 506: 1.0, 509: 1.0, 512: 1.0, 515: 1.0, 531: 1.0, 564: 1.0, 595: 1.0, 597: 3.0, 717: 1.0, 812: 1.0, 842: 1.0, 866: 2.0, 949: 1.0, 959: 1.0, 978: 1.0, 987: 1.0, 1010: 1.0, 1046: 1.0, 1052: 1.0, 1225: 1.0, 1251: 1.0, 1254: 1.0, 1256: 1.0, 1288: 1.0, 1319: 1.0, 1335: 1.0, 1384: 1.0, 1481: 1.0, 1563: 1.0, 1614: 1.0, 1631: 1.0, 1638: 1.0, 1640: 1.0, 1738: 2.0, 1786: 1.0, 1788: 1.0, 1801: 1.0, 1946: 3.0, 2021: 1.0, 2028: 1.0, 2046: 1.0, 2275: 1.0, 2310: 1.0, 2312: 1.0, 2333: 1.0, 2375: 3.0, 2419: 1.0, 2446: 1.0, 2476: 1.0, 2480: 1.0, 2733: 2.0, 2755: 1.0, 2799: 1.0, 3020: 1.0, 3047: 1.0, 3130: 1.0, 3229: 1.0, 3261: 1.0, 3302: 1.0, 3499: 1.0, 3560: 1.0, 3609: 1.0, 3754: 1.0, 3978: 6.0, 4088: 1.0, 4115: 5.0, 4123: 1.0, 4385: 1.0, 4674: 1.0, 4857: 1.0, 4898: 1.0, 4913: 1.0}), features=SparseVector(5000, {3: 3.2196, 5: 1.1169, 9: 1.1627, 14: 1.3529, 15: 1.42, 16: 2.9329, 22: 3.1832, 24: 3.1878, 26: 1.4957, 27: 1.6222, 28: 3.5792, 31: 1.5115, 32: 1.6704, 37: 1.6528, 43: 6.6925, 44: 2.175, 45: 3.3177, 46: 1.7334, 47: 5.3966, 48: 5.5767, 50: 4.9557, 53: 27.1823, 55: 2.0834, 56: 1.4858, 62: 1.8675, 65: 1.8474, 67: 1.9472, 75: 1.8304, 78: 1.9767, 87: 2.4346, 91: 1.9331, 95: 2.0075, 98: 4.1669, 99: 2.2405, 103: 2.4057, 104: 2.0423, 120: 2.0797, 121: 2.3725, 123: 2.1485, 125: 2.0749, 136: 4.2506, 140: 2.1246, 157: 2.4076, 179: 2.3707, 186: 2.2583, 199: 2.4057, 201: 2.7807, 206: 2.8561, 207: 5.0323, 214: 2.4791, 219: 2.3981, 226: 2.3661, 236: 2.7048, 253: 4.882, 260: 4.9583, 269: 2.7467, 275: 2.6278, 280: 2.5172, 283: 2.4604, 325: 2.6043, 339: 2.6646, 363: 2.7184, 386: 3.0988, 389: 2.78, 390: 2.6702, 433: 3.5711, 439: 3.002, 443: 2.8442, 449: 2.7891, 451: 2.9058, 459: 3.3062, 493: 10.0184, 496: 2.9823, 506: 3.274, 509: 2.9121, 512: 2.9891, 515: 2.7615, 531: 2.9531, 564: 2.9917, 595: 3.0744, 597: 10.077, 717: 3.3062, 812: 3.3627, 842: 3.8814, 866: 7.2811, 949: 4.0387, 959: 3.6211, 978: 3.6131, 987: 3.5048, 1010: 3.6211, 1046: 3.7901, 1052: 3.5119, 1225: 3.6654, 1251: 3.7602, 1254: 3.6654, 1256: 3.6195, 1288: 3.7565, 1319: 3.6874, 1335: 3.7276, 1384: 3.7492, 1481: 3.8919, 1563: 4.2372, 1614: 4.2196, 1631: 3.9912, 1638: 3.8752, 1640: 4.1171, 1738: 8.001, 1786: 4.1824, 1788: 4.2372, 1801: 4.1519, 1946: 13.7175, 2021: 4.1519, 2028: 4.1574, 2046: 4.3111, 2275: 4.682, 2310: 4.4118, 2312: 4.3175, 2333: 4.384, 2375: 13.9102, 2419: 4.289, 2446: 4.3737, 2476: 4.6591, 2480: 4.4048, 2733: 9.4395, 2755: 4.5439, 2799: 4.8982, 3020: 4.805, 3047: 4.7946, 3130: 4.9635, 3229: 4.8643, 3261: 4.6412, 3302: 4.8982, 3499: 4.9393, 3560: 4.9574, 3609: 4.8699, 3754: 5.1975, 3978: 31.3738, 4088: 5.001, 4115: 28.8341, 4123: 5.13, 4385: 5.0737, 4674: 5.2615, 4857: 5.4422, 4898: 5.2131, 4913: 5.3037})),\n",
       " Row(list_of_words=['makes', 'chicago', 'tweet', 'craig', 'jackson', 'monday', 'simple', 'question', 'simple', 'answer', 'lets', 'begin', 'politics', 'literary', 'well', 'unfortunately', 'three', 'topics', 'come', 'mind', 'chicago', 'unlike', 'american', 'city', 'caught', 'time', 'warp', 'trendy', 'traditional', 'want', 'want', 'want', 'usually', 'mayor', 'determined', 'make', 'international', 'whether', 'want', 'sort', 'thing', 'witness', 'president', 'coming', 'home', 'even', 'better', 'make', 'city', 'racism', 'unemployment', 'lastly', 'cost', 'living', 'city', 'verge', 'greatness', 'keep', 'killing', 'would', 'call', 'life', 'city', 'call', 'indifference', 'charge', 'know', 'whose', 'finally', 'reach', 'city', 'exercises', 'compassion', 'desperate', 'need', 'shop', 'michigan', 'guilt', 'free', 'least', 'tried', 'rather', 'throw', 'physical', 'emotional', 'barricades', 'deem', 'good', 'enough', 'fence', 'chicago', 'mayor', 'tutu', 'agenda', 'pomposity', 'grandeur', 'downtrodden', 'unwashed', 'need', 'apply', 'utopia', 'conformity', 'actually', 'grow', 'much', 'diversity', 'much', 'adversity', 'think', 'could', 'worked', 'differences', 'alas', 'havent', 'blacks', 'marginalized', 'hispanics', 'homogenized', 'whites', 'deified', 'drinking', 'beer', 'local', 'neighborhood', 'fest', 'think', 'missing', 'city', 'interaction', 'races', 'filed', 'uncategorized', 'tweet'], index=3, raw_features=SparseVector(5000, {1: 3.0, 3: 1.0, 9: 1.0, 10: 1.0, 13: 2.0, 15: 1.0, 17: 1.0, 19: 6.0, 22: 1.0, 23: 1.0, 24: 1.0, 28: 2.0, 30: 2.0, 32: 4.0, 37: 2.0, 40: 1.0, 56: 1.0, 60: 2.0, 75: 1.0, 88: 1.0, 91: 1.0, 100: 1.0, 120: 1.0, 125: 1.0, 127: 1.0, 138: 2.0, 140: 1.0, 146: 1.0, 157: 1.0, 184: 1.0, 231: 1.0, 232: 2.0, 234: 1.0, 253: 1.0, 260: 1.0, 272: 1.0, 330: 1.0, 360: 1.0, 363: 1.0, 392: 1.0, 419: 1.0, 425: 1.0, 433: 1.0, 515: 1.0, 549: 1.0, 552: 1.0, 553: 1.0, 602: 1.0, 636: 1.0, 671: 1.0, 679: 1.0, 749: 1.0, 805: 1.0, 898: 1.0, 924: 1.0, 935: 1.0, 984: 1.0, 986: 1.0, 1006: 1.0, 1062: 1.0, 1107: 1.0, 1225: 1.0, 1235: 1.0, 1340: 1.0, 1394: 2.0, 1404: 1.0, 1423: 1.0, 1428: 1.0, 1527: 1.0, 1689: 1.0, 1885: 1.0, 2051: 1.0, 2295: 1.0, 2298: 1.0, 2478: 1.0, 2783: 1.0, 3137: 1.0, 3243: 1.0, 3466: 1.0, 3859: 1.0, 3963: 1.0, 4048: 1.0, 4407: 1.0, 4435: 1.0, 4602: 1.0, 4870: 1.0}), features=SparseVector(5000, {1: 2.247, 3: 1.0732, 9: 1.1627, 10: 1.2486, 13: 2.6799, 15: 1.42, 17: 1.4255, 19: 10.8777, 22: 1.5916, 23: 1.5826, 24: 1.5939, 28: 3.5792, 30: 3.3781, 32: 6.6817, 37: 3.3056, 40: 2.0091, 56: 1.4858, 60: 3.7478, 75: 1.8304, 88: 2.1328, 91: 1.9331, 100: 2.1784, 120: 2.0797, 125: 2.0749, 127: 2.1318, 138: 4.289, 140: 2.1246, 146: 2.4239, 157: 2.4076, 184: 2.3105, 231: 2.4119, 232: 5.7789, 234: 2.4376, 253: 2.441, 260: 2.4791, 272: 2.6189, 330: 2.6379, 360: 2.6808, 363: 2.7184, 392: 2.7348, 419: 2.905, 425: 3.03, 433: 3.5711, 515: 2.7615, 549: 3.0606, 552: 4.2491, 553: 3.3565, 602: 3.1872, 636: 3.0781, 671: 3.364, 679: 3.1435, 749: 3.2683, 805: 3.256, 898: 3.3516, 924: 3.6891, 935: 3.5249, 984: 3.4506, 986: 3.4808, 1006: 3.478, 1062: 3.5163, 1107: 3.7012, 1225: 3.6654, 1235: 3.6806, 1340: 3.6943, 1394: 7.4984, 1404: 3.7455, 1423: 3.8288, 1428: 4.0633, 1527: 3.9348, 1689: 4.0886, 1885: 4.125, 2051: 4.4189, 2295: 4.2735, 2298: 4.4738, 2478: 4.2858, 2783: 5.152, 3137: 4.8533, 3243: 5.04, 3466: 4.9215, 3859: 4.9821, 3963: 5.2533, 4048: 4.9156, 4407: 5.0875, 4435: 5.0668, 4602: 5.3299, 4870: 5.514})),\n",
       " Row(list_of_words=['fulcrum', 'point', 'music', 'project', 'performs', 'concert', 'peace', 'september', 'tweet', 'shari', 'schmidt', 'monday', 'fulcrum', 'point', 'music', 'leader', 'music', 'inventive', 'partnership', 'build', 'peace', 'peace', 'international', 'peace', 'city', 'chicago', 'department', 'cultural', 'affairs', 'special', 'commemorates', 'september', 'celebrates', 'anniversary', 'season', 'free', 'concert', 'classical', 'contemporary', 'music', 'india', 'america', 'annual', 'concert', 'peace', 'pritzker', 'pavilion', 'millennium', 'randolph', 'september', 'uplifting', 'concert', 'inspired', 'vision', 'harmonious', 'features', 'fulcrum', 'point', 'ensemble', 'founder', 'artistic', 'stephen', 'array', 'renowned', 'international', 'guest', 'interactive', 'concert', 'percussion', 'song', 'opens', 'procession', 'international', 'flags', 'chicago', 'public', 'school', 'students', 'accompanied', 'ringing', 'audience', 'invited', 'participate', 'gong', 'utilizing', 'tuned', 'gongs', 'positioned', 'around', 'chicago', 'choir', 'josephine', 'julia', 'bentley', 'fulcrum', 'point', 'ensemble', 'come', 'together', 'world', 'premiere', 'robert', 'kathleen', 'forgetting', 'tribute', 'children', 'holocaust', 'metaphorical', 'journey', 'changing', 'seasons', 'full', 'youthful', 'spring', 'warm', 'summer', 'foreboding', 'onset', 'harsh', 'winds', 'relieved', 'return', 'lombardos', 'collaborated', 'work', 'based', 'family', 'memories', 'assisting', 'holocaust', 'survivors', 'childhood', 'annual', 'concert', 'peace', 'dedicated', 'kathleen', 'recently', 'passed', 'additional', 'performances', 'include', 'midwest', 'premiere', 'setting', 'rainer', 'maria', 'poem', 'composer', 'reena', 'poignant', 'ballad', 'spirit', 'binds', 'people', 'performed', 'soprano', 'genevieve', 'violinist', 'mathias', 'tacke', 'pianist', 'local', 'acoustic', 'rock', 'band', 'indian', 'vocalist', 'zeshan', 'performs', 'alternative', 'rock', 'works', 'inspired', 'indian', 'classical', 'improvisation', 'classical', 'indian', 'style', 'special', 'sarod', 'virtuoso', 'artist', 'soumik', 'datta', 'tabla', 'master', 'kalyan', 'audiences', 'also', 'hear', 'preview', 'parma', 'commission', 'fulcrum', 'point', 'debut', 'fall', 'made', 'possible', 'john', 'catherine', 'macarthur', 'work', 'creates', 'genre', 'music', 'fusing', 'eastern', 'western', 'classical', 'glimpses', 'piece', 'heard', 'intimations', 'luminous', 'mind', 'performed', 'world', 'premiere', 'shanti', 'peace', 'elizabeth', 'basta', 'kalyan', 'pathakfollows', 'utilizing', 'tuned', 'harp', 'chicago', 'shanti', 'paath', 'invites', 'audience', 'sing', 'along', 'ring', 'public', 'gongs', 'chorus', 'sings', 'text', 'written', 'father', 'invoking', 'profound', 'wisdom', 'inherent', 'human', 'program', 'concludes', 'whole', 'group', 'performing', 'shanti', 'composed', 'uttal', 'arranged', 'hearne', 'mitchell', 'featuring', 'chicago', 'fulcrum', 'point', 'music', 'project', 'guest', 'tickets', 'annual', 'concert', 'peace', 'free', 'public', 'tickets', 'information', 'fulcrum', 'point', 'programs', 'visit', 'want', 'find', 'happening', 'chicagoland', 'like', 'around', 'chicagoland', 'facebook', 'filed', 'uncategorized', 'chicago', 'choir', 'fulcrum', 'point', 'music', 'project', 'genevieve', 'thiers', 'julia', 'bentley', 'kalyan', 'pathak', 'huang', 'mathia', 'tacke', 'parma', 'rainer', 'maria', 'rilke', 'shari', 'schmidt', 'soumik', 'datta', 'stephen', 'burns', 'zamin', 'zeshan', 'bagewadi', 'tweet'], index=4, raw_features=SparseVector(5000, {1: 6.0, 4: 1.0, 5: 1.0, 6: 1.0, 19: 1.0, 25: 1.0, 26: 1.0, 28: 2.0, 32: 1.0, 47: 2.0, 50: 2.0, 54: 3.0, 56: 1.0, 57: 1.0, 75: 1.0, 84: 1.0, 88: 1.0, 102: 2.0, 103: 1.0, 104: 1.0, 111: 1.0, 125: 1.0, 133: 1.0, 137: 1.0, 157: 2.0, 172: 1.0, 179: 2.0, 180: 1.0, 186: 1.0, 195: 1.0, 211: 1.0, 250: 8.0, 287: 7.0, 332: 1.0, 334: 1.0, 362: 1.0, 371: 1.0, 383: 1.0, 387: 1.0, 422: 1.0, 425: 3.0, 435: 1.0, 454: 1.0, 484: 3.0, 485: 1.0, 499: 1.0, 513: 1.0, 514: 2.0, 515: 1.0, 535: 1.0, 537: 3.0, 567: 1.0, 624: 1.0, 633: 3.0, 654: 1.0, 669: 1.0, 694: 1.0, 705: 1.0, 725: 1.0, 763: 1.0, 770: 1.0, 776: 1.0, 783: 1.0, 984: 1.0, 1000: 1.0, 1054: 1.0, 1104: 1.0, 1205: 2.0, 1227: 1.0, 1234: 1.0, 1343: 1.0, 1429: 1.0, 1441: 1.0, 1505: 1.0, 1544: 1.0, 1592: 1.0, 1596: 2.0, 1597: 2.0, 1603: 8.0, 1611: 1.0, 1678: 1.0, 1745: 1.0, 1747: 1.0, 1776: 1.0, 1795: 2.0, 1798: 1.0, 1838: 1.0, 1871: 7.0, 1878: 1.0, 1945: 1.0, 1949: 2.0, 1974: 1.0, 2019: 1.0, 2046: 2.0, 2050: 1.0, 2073: 1.0, 2180: 1.0, 2196: 1.0, 2285: 1.0, 2401: 1.0, 2431: 1.0, 2441: 1.0, 2479: 1.0, 2490: 1.0, 2501: 1.0, 2516: 1.0, 2531: 1.0, 2540: 1.0, 2562: 1.0, 2589: 2.0, 2621: 1.0, 2627: 1.0, 2750: 1.0, 2810: 1.0, 2852: 1.0, 3084: 1.0, 3127: 3.0, 3200: 3.0, 3511: 1.0, 3534: 1.0, 3623: 1.0, 3632: 2.0, 3640: 1.0, 3687: 1.0, 3941: 1.0, 3996: 1.0, 4021: 1.0, 4281: 1.0, 4429: 1.0, 4532: 2.0, 4646: 1.0, 4682: 1.0, 4841: 2.0, 4910: 1.0}), features=SparseVector(5000, {1: 4.494, 4: 0.8836, 5: 1.1169, 6: 1.1869, 19: 1.8129, 25: 2.064, 26: 1.4957, 28: 3.5792, 32: 1.6704, 47: 3.5977, 50: 3.3038, 54: 5.8695, 56: 1.4858, 57: 1.973, 75: 1.8304, 84: 2.1848, 88: 2.1328, 102: 4.5192, 103: 2.4057, 104: 2.0423, 111: 2.0373, 125: 2.0749, 133: 2.2162, 137: 2.3024, 157: 4.8152, 172: 2.9417, 179: 4.7413, 180: 2.5928, 186: 2.2583, 195: 2.2837, 211: 2.4634, 250: 19.8127, 287: 21.9218, 332: 2.656, 334: 2.9639, 362: 2.7494, 371: 2.7249, 383: 2.7528, 387: 2.7387, 422: 2.8487, 425: 9.0899, 435: 2.7561, 454: 2.8856, 484: 9.2372, 485: 3.1646, 499: 3.119, 513: 2.8933, 514: 7.1, 515: 2.7615, 535: 3.0011, 537: 9.901, 567: 3.2082, 624: 3.1209, 633: 9.6695, 654: 3.2351, 669: 3.1219, 694: 3.2527, 705: 3.4187, 725: 3.1935, 763: 3.3298, 770: 3.5005, 776: 3.3941, 783: 3.2605, 984: 3.4506, 1000: 3.485, 1054: 3.6687, 1104: 3.7657, 1205: 7.9274, 1227: 4.0708, 1234: 3.7169, 1343: 3.911, 1429: 4.1465, 1441: 3.8608, 1505: 4.2225, 1544: 4.1277, 1592: 4.1092, 1596: 8.1167, 1597: 8.3816, 1603: 33.7798, 1611: 3.9751, 1678: 4.9156, 1745: 3.957, 1747: 4.2827, 1776: 3.9912, 1795: 8.2342, 1798: 4.1601, 1838: 4.0436, 1871: 30.6877, 1878: 4.1824, 1945: 4.1656, 1949: 8.2822, 1974: 4.2921, 2019: 4.2108, 2046: 8.6222, 2050: 4.174, 2073: 4.3272, 2180: 4.337, 2196: 4.5479, 2285: 4.2704, 2401: 4.4738, 2431: 4.4552, 2441: 4.5005, 2479: 4.4552, 2490: 4.4154, 2501: 4.3909, 2516: 4.5082, 2531: 4.4889, 2540: 4.6062, 2562: 4.5642, 2589: 9.6417, 2621: 4.5398, 2627: 4.556, 2750: 4.6501, 2810: 4.9635, 2852: 4.8811, 3084: 5.0737, 3127: 14.8722, 3200: 15.5924, 3511: 4.9759, 3534: 4.9393, 3623: 5.0805, 3632: 10.1749, 3640: 4.8103, 3687: 4.9821, 3941: 5.3299, 3996: 5.13, 4021: 5.2866, 4281: 5.1975, 4429: 5.221, 4532: 10.8258, 4646: 5.4323, 4682: 5.229, 4841: 11.1599, 4910: 5.2451})),\n",
       " Row(list_of_words=['died', 'suffering', 'gunshot', 'wound', 'head', 'monda', 'morning', 'south', 'chicago', 'police', 'shooting', 'occurred', 'block', 'south', 'baltimore', 'police', 'news', 'affairs', 'officer', 'michael', 'sullivan', 'taken', 'critical', 'condition', 'advocate', 'christ', 'medical', 'center', 'pronounced', 'police', 'cook', 'county', 'medical', 'office', 'could', 'immediately', 'confirm', 'area', 'south', 'detectives', 'media', 'wire', 'chicago', 'rights', 'material'], index=5, raw_features=SparseVector(5000, {1: 2.0, 2: 3.0, 10: 1.0, 33: 3.0, 34: 1.0, 38: 1.0, 52: 1.0, 81: 1.0, 96: 1.0, 108: 1.0, 109: 1.0, 116: 1.0, 122: 2.0, 129: 1.0, 130: 1.0, 170: 1.0, 177: 1.0, 199: 1.0, 235: 1.0, 286: 1.0, 315: 1.0, 432: 1.0, 434: 1.0, 462: 1.0, 682: 1.0, 685: 1.0, 982: 1.0, 995: 1.0, 1049: 1.0, 1215: 1.0, 1216: 1.0, 1234: 1.0, 1263: 1.0, 1524: 1.0, 2302: 1.0, 3057: 1.0, 3413: 1.0, 3742: 1.0}), features=SparseVector(5000, {1: 1.498, 2: 4.0311, 10: 1.2486, 33: 5.6553, 34: 1.8686, 38: 1.6998, 52: 2.0466, 81: 1.9926, 96: 2.1471, 108: 2.1867, 109: 1.9805, 116: 2.1419, 122: 4.8362, 129: 2.536, 130: 2.3785, 170: 2.2604, 177: 2.6634, 199: 2.4057, 235: 2.5512, 286: 2.8045, 315: 2.5848, 432: 2.7341, 434: 2.6616, 462: 3.1084, 682: 3.1495, 685: 3.08, 982: 3.467, 995: 3.588, 1049: 3.5426, 1215: 3.8793, 1216: 3.6389, 1234: 3.7169, 1263: 3.8487, 1524: 4.0123, 2302: 4.2704, 3057: 4.556, 3413: 5.0334, 3742: 5.1745})),\n",
       " Row(list_of_words=['tribune', 'illustration', 'related', 'chicago', 'special', 'chicago', 'explore', 'crime', 'plore', 'community', 'track', 'homicides', 'track', 'homicides', 'chica', 'breaking', 'news', 'photos', 'suburban', 'news', 'source', 'chicago', 'tribune', 'maps', 'south', 'sacramento', 'staff', 'report', 'september', 'woman', 'seriously', 'injured', 'lawndale', 'neighborhood', 'morning', 'driver', 'lost', 'control', 'medical', 'authorities', 'block', 'west', 'harrison', 'street', 'little', 'taken', 'mount', 'sinai', 'hospital', 'critical', 'according', 'chicago', 'fire', 'media', 'driver', 'also', 'taken', 'mount', 'sinai', 'according', 'fire', 'driver', 'believed', 'suffered', 'medical', 'said', 'chicago', 'police', 'department', 'news', 'affairs', 'officer', 'michael', 'check', 'back', 'chicago', 'explore', 'track', 'homicides'], index=6, raw_features=SparseVector(5000, {0: 1.0, 1: 6.0, 2: 1.0, 4: 1.0, 11: 2.0, 14: 1.0, 33: 1.0, 38: 3.0, 52: 1.0, 68: 1.0, 73: 1.0, 81: 2.0, 84: 1.0, 115: 1.0, 116: 1.0, 117: 1.0, 119: 1.0, 122: 2.0, 141: 1.0, 149: 2.0, 152: 2.0, 177: 1.0, 179: 1.0, 189: 1.0, 235: 1.0, 246: 1.0, 249: 1.0, 272: 1.0, 300: 1.0, 315: 1.0, 317: 1.0, 352: 1.0, 385: 1.0, 388: 1.0, 414: 1.0, 463: 1.0, 633: 1.0, 682: 1.0, 736: 1.0, 738: 1.0, 754: 3.0, 1021: 1.0, 1100: 3.0, 1110: 2.0, 1180: 1.0, 1234: 1.0, 1281: 1.0, 1555: 1.0, 1598: 2.0, 2029: 1.0, 2703: 2.0, 2985: 1.0, 3363: 3.0, 4024: 1.0, 4268: 1.0}), features=SparseVector(5000, {0: 0.7384, 1: 4.494, 2: 1.3437, 4: 0.8836, 11: 2.7215, 14: 1.3529, 33: 1.8851, 38: 5.0994, 52: 2.0466, 68: 2.0593, 73: 1.9246, 81: 3.9853, 84: 2.1848, 115: 2.3534, 116: 2.1419, 117: 2.267, 119: 2.3422, 122: 4.8362, 141: 2.2205, 149: 5.3453, 152: 4.881, 177: 2.6634, 179: 2.3707, 189: 2.6189, 235: 2.5512, 246: 2.4152, 249: 2.6445, 272: 2.6189, 300: 2.6095, 315: 2.5848, 317: 2.6463, 352: 2.7171, 385: 2.7534, 388: 3.0744, 414: 3.2029, 463: 2.9968, 633: 3.2232, 682: 3.1495, 736: 3.2842, 738: 3.2103, 754: 10.8062, 1021: 3.4697, 1100: 10.9413, 1110: 7.7463, 1180: 3.8568, 1234: 3.7169, 1281: 3.819, 1555: 3.7901, 1598: 8.3591, 2029: 4.1197, 2703: 9.2125, 2985: 4.8315, 3363: 15.6158, 4024: 5.1228, 4268: 5.0074})),\n",
       " Row(list_of_words=['away', 'tweet', 'marie', 'larsen', 'monday', 'away', 'weekend', 'leave', 'adventure', 'vacation', 'south', 'really', 'deal', 'wonderful', 'takes', 'vacation', 'stays', 'home', 'funny', 'last', 'weeks', 'leading', 'coming', 'shrug', 'shoulders', 'find', 'poor', 'much', 'sometimes', 'wonder', 'vacation', 'worth', 'since', 'domestic', 'manager', 'around', 'everything', 'needs', 'done', 'allowed', 'away', 'anything', 'longer', 'teeth', 'relies', 'take', 'care', 'stuff', 'since', 'works', 'really', 'weird', 'shifts', 'living', 'well', 'spouse', 'works', 'weird', 'shifts', 'cleaning', 'fault', 'little', 'tumbleweeds', 'blowing', 'homework', 'well', 'getting', 'upset', 'whole', 'work', 'outside', 'work', 'gardener', 'take', 'care', 'like', 'works', 'everyone', 'needs', 'clean', 'clean', 'clean', 'clean', 'clean', 'schedules', 'typed', 'much', 'detailed', 'information', 'teachers', 'need', 'notified', 'grandma', 'needs', 'food', 'needs', 'anything', 'boiled', 'heated', 'oven', 'grill', 'remain', 'room', 'temperature', 'stock', 'fridge', 'dozen', 'kids', 'kind', 'vegetable', 'reason', 'love', 'week', 'chicken', 'frozen', 'pizza', 'fish', 'dream', 'come', 'true', 'daddy', 'time', 'precious', 'hubby', 'works', 'weird', 'days', 'without', 'seeing', 'plenty', 'quality', 'time', 'also', 'plenty', 'time', 'make', 'crazy', 'sure', 'keep', 'sure', 'sure', 'sure', 'homework', 'every', 'also', 'sure', 'spend', 'time', 'fantastic', 'things', 'make', 'makes', 'unique', 'girls', 'deserve', 'love', 'house', 'picked', 'really', 'awesome', 'really', 'packing', 'back', 'getting', 'things', 'packing', 'stuff', 'making', 'sure', 'family', 'neatly', 'tucked', 'domestic', 'contentment', 'promise', 'away', 'love', 'every', 'minute', 'except', 'zillion', 'minutes', 'missing', 'pretty', 'spectacular', 'come', 'back', 'home', 'find', 'much', 'away', 'blog', 'stay', 'tuned', 'next', 'week', 'hold', 'blog', 'south', 'proverbs', 'wife', 'noble', 'worth', 'husband', 'full', 'confidence', 'lacks', 'nothing', 'children', 'arise', 'call', 'husband', 'prai', 'women', 'noble', 'surpass', 'ephesians', 'also', 'must', 'love', 'wife', 'loves', 'wife', 'must', 'respect', 'please', 'also', 'join', 'facebook', 'coffee', 'subscribe', 'blog', 'adding', 'email', 'type', 'email', 'address', 'click', 'button', 'list', 'completely', 'spam', 'filed', 'funny', 'stuff', 'home', 'bible', 'verses', 'dinner', 'family', 'relationships', 'schedules', 'vacation', 'tweet', 'ving', 'well', 'spouse', 'works', 'weird', 'coffe'], index=7, raw_features=SparseVector(5000, {4: 4.0, 5: 1.0, 8: 1.0, 9: 4.0, 13: 2.0, 14: 2.0, 22: 3.0, 28: 2.0, 31: 2.0, 33: 2.0, 35: 2.0, 37: 3.0, 45: 1.0, 47: 2.0, 48: 4.0, 50: 1.0, 56: 1.0, 57: 2.0, 58: 1.0, 60: 1.0, 61: 2.0, 73: 1.0, 74: 1.0, 75: 2.0, 91: 3.0, 98: 2.0, 104: 2.0, 111: 1.0, 112: 2.0, 120: 1.0, 121: 4.0, 125: 1.0, 136: 2.0, 138: 1.0, 154: 1.0, 156: 2.0, 159: 1.0, 163: 5.0, 165: 2.0, 167: 1.0, 173: 1.0, 180: 1.0, 191: 1.0, 193: 6.0, 195: 1.0, 198: 1.0, 211: 1.0, 227: 1.0, 242: 1.0, 243: 1.0, 253: 1.0, 259: 2.0, 260: 1.0, 263: 1.0, 274: 1.0, 293: 1.0, 302: 1.0, 333: 1.0, 355: 1.0, 361: 1.0, 364: 1.0, 370: 1.0, 374: 2.0, 375: 4.0, 384: 1.0, 393: 1.0, 411: 1.0, 413: 1.0, 416: 1.0, 419: 1.0, 450: 1.0, 454: 1.0, 474: 1.0, 479: 1.0, 500: 1.0, 531: 1.0, 564: 1.0, 579: 3.0, 586: 1.0, 604: 1.0, 618: 1.0, 628: 1.0, 648: 1.0, 666: 1.0, 671: 1.0, 691: 2.0, 757: 1.0, 767: 1.0, 782: 1.0, 783: 5.0, 784: 2.0, 804: 1.0, 844: 1.0, 855: 1.0, 903: 3.0, 952: 1.0, 1085: 3.0, 1143: 1.0, 1154: 1.0, 1187: 2.0, 1239: 1.0, 1270: 1.0, 1283: 1.0, 1296: 2.0, 1319: 1.0, 1380: 1.0, 1459: 1.0, 1491: 1.0, 1518: 5.0, 1604: 1.0, 1644: 1.0, 1655: 1.0, 1666: 1.0, 1669: 1.0, 1789: 1.0, 1817: 1.0, 1835: 1.0, 1877: 1.0, 1965: 1.0, 2003: 1.0, 2044: 1.0, 2089: 1.0, 2208: 1.0, 2249: 1.0, 2265: 1.0, 2283: 2.0, 2442: 1.0, 2736: 1.0, 2921: 1.0, 2976: 1.0, 3140: 1.0, 3444: 4.0, 3483: 4.0, 3523: 1.0, 3650: 1.0, 3926: 1.0, 4182: 1.0, 4468: 1.0, 4483: 1.0, 4658: 1.0, 4897: 1.0}), features=SparseVector(5000, {4: 3.5344, 5: 1.1169, 8: 1.1297, 9: 4.651, 13: 2.6799, 14: 2.7059, 22: 4.7748, 28: 3.5792, 31: 3.023, 33: 3.7702, 35: 3.137, 37: 4.9584, 45: 1.6589, 47: 3.5977, 48: 7.4357, 50: 1.6519, 56: 1.4858, 57: 3.9461, 58: 2.135, 60: 1.8739, 61: 3.6738, 73: 1.9246, 74: 1.8048, 75: 3.6609, 91: 5.7994, 98: 4.1669, 104: 4.0846, 111: 2.0373, 112: 4.2556, 120: 2.0797, 121: 9.49, 125: 2.0749, 136: 4.2506, 138: 2.1445, 154: 2.1952, 156: 4.3896, 159: 2.1452, 163: 10.9298, 165: 5.1947, 167: 2.2029, 173: 2.8591, 180: 2.5928, 191: 2.2981, 193: 13.8039, 195: 2.2837, 198: 2.7561, 211: 2.4634, 227: 2.4109, 242: 2.6307, 243: 2.3223, 253: 2.441, 259: 5.1279, 260: 2.4791, 263: 2.5398, 274: 3.0185, 293: 2.5447, 302: 2.4376, 333: 2.4915, 355: 2.78, 361: 2.6739, 364: 2.801, 370: 2.7295, 374: 5.3404, 375: 11.068, 384: 2.7975, 393: 2.7275, 411: 2.7752, 413: 2.7759, 416: 2.8031, 419: 2.905, 450: 2.9074, 454: 2.8856, 474: 3.0203, 479: 2.9336, 500: 2.7718, 531: 2.9531, 564: 2.9917, 579: 9.8321, 586: 3.1779, 604: 3.0569, 618: 3.0398, 628: 3.1406, 648: 3.0524, 666: 3.1738, 671: 3.364, 691: 6.3849, 757: 3.1914, 767: 3.8608, 782: 3.9773, 783: 16.3023, 784: 7.0616, 804: 3.3347, 844: 3.3109, 855: 3.3565, 903: 10.4508, 952: 3.3903, 1085: 10.9413, 1143: 3.657, 1154: 3.5206, 1187: 7.2327, 1239: 4.086, 1270: 3.7187, 1283: 3.6455, 1296: 7.8478, 1319: 3.6874, 1380: 3.8447, 1459: 3.8288, 1491: 3.8131, 1518: 19.8412, 1604: 3.9174, 1644: 4.2552, 1655: 4.2827, 1666: 4.7441, 1669: 3.9819, 1789: 4.1908, 1817: 3.9796, 1835: 4.0583, 1877: 4.6913, 1965: 4.2137, 2003: 4.1993, 2044: 4.2283, 2089: 4.2491, 2208: 4.4013, 2249: 4.2704, 2265: 4.8369, 2283: 8.8237, 2442: 4.4013, 2736: 4.47, 2921: 4.4966, 2976: 4.6546, 3140: 5.0139, 3444: 19.8541, 3483: 19.3477, 3523: 5.1015, 3650: 4.9635, 3926: 4.9333, 4182: 5.3211, 4468: 5.5247, 4483: 5.0668, 4658: 5.3751, 4897: 5.3388})),\n",
       " Row(list_of_words=['travis', 'wood', 'beat', 'cincinnati', 'first', 'time', 'repeatedly', 'pitching', 'threats', 'seven', 'cago', 'cubs', 'stalled', 'surge', 'victory', 'monday', 'wood', 'finally', 'beat', 'team', 'traded', 'including', 'three', 'losses', 'allowed', 'hits', 'fanned', 'kevin', 'gregg', 'gave', 'double', 'ninth', 'earning', 'save', 'ryan', 'sweeney', 'luis', 'valbuena', 'homered', 'bronson', 'arroyo', 'last', 'four', 'starts', 'reds', 'coming', 'refreshing', 'week', 'wins', 'seven', 'games', 'rival', 'cardinals', 'leaving', 'cincinnati', 'games', 'louis', 'idle', 'reds', 'chance', 'gain', 'first', 'cincinnati', 'within', 'game', 'first', 'place', 'since', 'reds', 'close', 'games', 'made', 'ground', 'since', 'falling', 'games', 'facing', 'team', 'wasted', 'chance', 'move', 'cincinnati', 'cubs', 'cincinnati', 'last', 'last', 'cubs', 'started', 'longest', 'trip', 'since', 'games', 'also', 'pittsburgh', 'sweeney', 'sixth', 'homer', 'second', 'inning', 'valbuena', 'homer', 'left', 'career', 'arroyo', 'homers', 'chicago', 'hitters', 'good', 'results', 'arroyo', 'allowed', 'seven', 'hits', 'seven', 'striking', 'wood', 'traded', 'cubs', 'reliever', 'sean', 'marshall', 'pitched', 'well', 'allowing', 'runs', 'three', 'four', 'starts', 'problem', 'lack', 'need', 'wood', 'forced', 'cincinnati', 'strand', 'runner', 'second', 'base', 'fifth', 'sixth', 'choo', 'doubled', 'wood', 'brandon', 'phillips', 'joey', 'votto', 'called', 'third', 'reds', 'stranded', 'seven', 'runners', 'scoring', 'position', 'seven', 'choo', 'back', 'pitch', 'third', 'time', 'leadoff', 'hitter', 'plunked', 'choo', 'surpassed', 'jason', 'larue', 'club', 'sixth', 'shutout', 'reds', 'zack', 'cozart', 'extending', 'hitting', 'streak', 'johnny', 'cueto', 'continues', 'throw', 'without', 'cueto', 'third', 'time', 'season', 'shoulder', 'reds', 'decided', 'could', 'pitch', 'game', 'role', 'might', 'want', 'force', 'hurting', 'manager', 'dusty', 'baker', 'great', 'tony', 'cingrani', 'starts', 'reds', 'second', 'appearance', 'since', 'returning', 'back', 'cubs', 'edwin', 'jackson', 'leads', 'stats', 'associated', 'commercial', 'distribution', 'without', 'express', 'written', 'consent', 'stats', 'associated', 'press', 'strictly'], index=8, raw_features=SparseVector(5000, {1: 1.0, 4: 1.0, 7: 3.0, 8: 3.0, 9: 3.0, 10: 1.0, 14: 2.0, 17: 2.0, 24: 1.0, 26: 1.0, 32: 1.0, 35: 4.0, 43: 2.0, 53: 5.0, 55: 2.0, 60: 1.0, 63: 1.0, 65: 2.0, 74: 2.0, 78: 3.0, 79: 1.0, 82: 1.0, 85: 1.0, 91: 1.0, 103: 1.0, 112: 1.0, 118: 1.0, 125: 1.0, 132: 1.0, 197: 1.0, 203: 5.0, 214: 3.0, 221: 1.0, 253: 1.0, 262: 1.0, 277: 2.0, 316: 1.0, 319: 1.0, 356: 6.0, 373: 2.0, 380: 1.0, 386: 1.0, 433: 1.0, 450: 2.0, 456: 1.0, 474: 1.0, 495: 1.0, 542: 1.0, 574: 1.0, 597: 1.0, 613: 1.0, 635: 1.0, 677: 1.0, 679: 1.0, 717: 1.0, 721: 2.0, 725: 1.0, 756: 1.0, 794: 1.0, 832: 1.0, 834: 1.0, 852: 1.0, 866: 2.0, 869: 1.0, 884: 1.0, 912: 1.0, 925: 1.0, 941: 3.0, 978: 1.0, 980: 1.0, 983: 1.0, 987: 1.0, 1140: 1.0, 1182: 1.0, 1208: 1.0, 1225: 1.0, 1246: 1.0, 1293: 1.0, 1341: 1.0, 1356: 2.0, 1483: 1.0, 1507: 1.0, 1535: 1.0, 1617: 1.0, 1627: 1.0, 1631: 1.0, 1640: 1.0, 1752: 2.0, 1786: 1.0, 1801: 1.0, 1815: 1.0, 1853: 1.0, 1946: 5.0, 2055: 1.0, 2060: 3.0, 2121: 1.0, 2178: 1.0, 2182: 1.0, 2218: 1.0, 2247: 1.0, 2252: 1.0, 2255: 1.0, 2313: 2.0, 2375: 1.0, 2546: 1.0, 2586: 1.0, 2598: 2.0, 2599: 1.0, 2628: 1.0, 2665: 1.0, 2737: 1.0, 2817: 1.0, 2835: 1.0, 2871: 1.0, 2988: 1.0, 3183: 1.0, 3220: 1.0, 3561: 1.0, 3571: 1.0, 3616: 1.0, 3664: 1.0, 3754: 6.0, 3817: 1.0, 3837: 1.0, 3937: 1.0, 3978: 1.0, 4049: 1.0, 4115: 7.0, 4424: 1.0, 4819: 1.0}), features=SparseVector(5000, {1: 0.749, 4: 0.8836, 7: 3.3991, 8: 3.3891, 9: 3.4882, 10: 1.2486, 14: 2.7059, 17: 2.851, 24: 1.5939, 26: 1.4957, 32: 1.6704, 35: 6.2739, 43: 4.4617, 53: 15.1013, 55: 4.1669, 60: 1.8739, 63: 1.7655, 65: 3.6949, 74: 3.6097, 78: 5.9302, 79: 1.9158, 82: 1.8705, 85: 2.0728, 91: 1.9331, 103: 2.4057, 112: 2.1278, 118: 2.1416, 125: 2.0749, 132: 2.1057, 197: 2.3201, 203: 13.4795, 214: 7.4374, 221: 2.3986, 253: 2.441, 262: 2.5316, 277: 5.0861, 316: 2.6084, 319: 2.6124, 356: 16.3221, 373: 5.5698, 380: 2.7081, 386: 3.0988, 433: 3.5711, 450: 5.8147, 456: 2.9731, 474: 3.0203, 495: 3.0098, 542: 3.1239, 574: 3.002, 597: 3.359, 613: 3.4332, 635: 3.1396, 677: 3.1841, 679: 3.1435, 717: 3.3062, 721: 6.5868, 725: 3.1935, 756: 3.1945, 794: 3.478, 832: 3.5352, 834: 3.5019, 852: 3.4878, 866: 7.2811, 869: 3.3334, 884: 3.3334, 912: 3.4122, 925: 3.5865, 941: 10.5015, 978: 3.6131, 980: 3.4439, 983: 3.6227, 987: 3.5048, 1140: 3.559, 1182: 3.948, 1208: 3.7064, 1225: 3.6654, 1246: 3.6977, 1293: 3.7276, 1341: 4.2108, 1356: 8.0293, 1483: 4.0218, 1507: 3.8629, 1535: 4.1795, 1617: 3.8793, 1627: 3.9217, 1631: 3.9912, 1640: 4.1171, 1752: 8.903, 1786: 4.1824, 1801: 4.1519, 1815: 4.0534, 1853: 4.0075, 1946: 22.8624, 2055: 4.174, 2060: 12.6239, 2121: 4.4369, 2178: 4.7102, 2182: 4.3771, 2218: 4.2582, 2247: 4.8478, 2252: 4.2372, 2255: 4.3239, 2313: 8.7406, 2375: 4.6367, 2546: 4.4813, 2586: 4.4889, 2598: 9.5892, 2599: 4.759, 2628: 4.5601, 2665: 4.6192, 2737: 4.6062, 2817: 4.6149, 2835: 4.4333, 2871: 5.1669, 2988: 4.8868, 3183: 4.8533, 3220: 5.0139, 3561: 4.8533, 3571: 4.9274, 3616: 4.9821, 3664: 4.8982, 3754: 31.1848, 3817: 5.2053, 3837: 4.9215, 3937: 5.1015, 3978: 5.229, 4049: 5.2698, 4115: 40.3678, 4424: 5.1897, 4819: 5.2951})),\n",
       " Row(list_of_words=['accused', 'running', 'classic', 'government', 'kickback', 'scam', 'clouted', 'position', 'former', 'cook', 'count', 'board', 'president', 'todd', 'lifelong', 'eugene', 'still', 'south', 'side', 'kids', 'prove', 'lawyer', 'john', 'richardson', 'even', 'brought', 'imaginary', 'court', 'meet', 'jurors', 'monday', 'bizarre', 'opening', 'statement', 'start', 'expected', 'week', 'richardson', 'mimed', 'holding', 'hand', 'younger', 'chicago', 'looked', 'imaginary', 'standing', 'beside', 'adopted', 'telling', 'jurors', 'sought', 'attention', 'approval', 'taking', 'imaginary', 'child', 'walk', 'front', 'jury', 'strange', 'dramatic', 'appeal', 'sympathy', 'start', 'otherwise', 'contract', 'fraud', 'prosecutors', 'allege', 'chicago', 'police', 'used', 'former', 'position', 'spokesman', 'associates', 'four', 'county', 'demanded', 'kickbacks', 'worth', 'nearly', 'though', 'pals', 'bidding', 'qualified', 'never', 'intended', 'mullins', 'coached', 'little', 'less', 'assistant', 'attorney', 'lindsay', 'jenkins', 'said', 'opening', 'county', 'payments', 'typically', 'take', 'weeks', 'mullins', 'personally', 'delivered', 'pals', 'checks', 'within', 'days', 'demanded', 'jenkins', 'richardson', 'countered', 'case', 'built', 'testimony', 'three', 'associates', 'government', 'wants', 'stay', 'another', 'piece', 'bounded', 'around', 'judge', 'mimicking', 'actions', 'multiple', 'county', 'bureaucrats', 'signed', 'telling', 'jurors', 'mullins', 'simply', 'drama', 'could', 'come', 'later', 'trial', 'attorneys', 'vowed', 'call', 'stroger', 'media', 'wire', 'chicago', 'rights', 'material'], index=9, raw_features=SparseVector(5000, {0: 1.0, 1: 3.0, 2: 1.0, 10: 1.0, 15: 1.0, 17: 1.0, 29: 1.0, 31: 1.0, 33: 1.0, 34: 3.0, 39: 1.0, 40: 1.0, 50: 1.0, 62: 1.0, 64: 2.0, 65: 1.0, 73: 1.0, 75: 1.0, 76: 1.0, 105: 1.0, 109: 1.0, 112: 1.0, 116: 1.0, 124: 1.0, 125: 1.0, 130: 1.0, 133: 1.0, 138: 1.0, 147: 2.0, 154: 1.0, 158: 1.0, 185: 1.0, 188: 1.0, 198: 1.0, 201: 1.0, 204: 1.0, 215: 1.0, 228: 2.0, 237: 1.0, 240: 1.0, 261: 1.0, 275: 1.0, 295: 1.0, 301: 1.0, 307: 1.0, 308: 1.0, 310: 1.0, 380: 1.0, 393: 1.0, 407: 1.0, 413: 1.0, 434: 1.0, 437: 1.0, 449: 1.0, 530: 1.0, 533: 1.0, 595: 1.0, 596: 1.0, 601: 1.0, 605: 1.0, 635: 2.0, 667: 1.0, 673: 2.0, 685: 1.0, 691: 1.0, 707: 1.0, 722: 1.0, 790: 1.0, 796: 1.0, 910: 1.0, 919: 1.0, 945: 1.0, 970: 1.0, 1000: 1.0, 1069: 1.0, 1076: 2.0, 1191: 1.0, 1249: 1.0, 1328: 1.0, 1376: 1.0, 1381: 1.0, 1480: 1.0, 1585: 1.0, 1679: 1.0, 1740: 1.0, 1844: 1.0, 1912: 1.0, 2095: 1.0, 2104: 1.0, 2133: 1.0, 2286: 1.0, 2354: 1.0, 2387: 1.0, 2448: 1.0, 2606: 2.0, 2625: 1.0, 2826: 1.0, 2875: 1.0, 2979: 1.0, 3111: 1.0, 3166: 3.0, 3180: 1.0, 3433: 1.0, 4478: 1.0, 4526: 1.0, 4527: 2.0, 4845: 2.0, 4954: 1.0}), features=SparseVector(5000, {0: 0.7384, 1: 2.247, 2: 1.3437, 10: 1.2486, 15: 1.42, 17: 1.4255, 29: 1.5623, 31: 1.5115, 33: 1.8851, 34: 5.6058, 39: 1.5599, 40: 2.0091, 50: 1.6519, 62: 1.8675, 64: 3.9603, 65: 1.8474, 73: 1.9246, 75: 1.8304, 76: 2.2265, 105: 2.0783, 109: 1.9805, 112: 2.1278, 116: 2.1419, 124: 2.0824, 125: 2.0749, 130: 2.3785, 133: 2.2162, 138: 2.1445, 147: 4.4529, 154: 2.1952, 158: 2.3799, 185: 2.3037, 188: 2.6915, 198: 2.7561, 201: 2.7807, 204: 2.2892, 215: 2.6349, 228: 5.5712, 237: 2.3579, 240: 2.4244, 261: 2.4669, 275: 2.6278, 295: 3.12, 301: 2.616, 307: 2.682, 308: 2.9773, 310: 2.5825, 380: 2.7081, 393: 2.7275, 407: 2.8045, 413: 2.7759, 434: 2.6616, 437: 2.7926, 449: 2.7891, 530: 3.0488, 533: 3.1386, 595: 3.0744, 596: 3.0371, 601: 3.1769, 605: 3.1586, 635: 6.2792, 667: 3.1103, 673: 6.3974, 685: 3.08, 691: 3.1924, 707: 3.1903, 722: 3.5323, 790: 3.684, 796: 3.2627, 910: 3.3443, 919: 3.3504, 945: 3.4794, 970: 3.4822, 1000: 3.485, 1069: 3.5545, 1076: 6.9869, 1191: 3.894, 1249: 3.6977, 1328: 3.9935, 1376: 4.0963, 1381: 3.7958, 1480: 3.8773, 1585: 4.0436, 1679: 4.0028, 1740: 4.1767, 1844: 4.0146, 1912: 4.0835, 2095: 4.4225, 2104: 4.3502, 2133: 4.174, 2286: 4.6367, 2354: 4.5977, 2387: 4.2552, 2448: 4.5005, 2606: 8.7748, 2625: 4.682, 2826: 4.5766, 2875: 4.6501, 2979: 4.7149, 3111: 4.5892, 3166: 15.5924, 3180: 4.7843, 3433: 4.759, 4478: 5.1228, 4526: 5.0944, 4527: 10.5065, 4845: 11.8283, 4954: 5.2698}))]"
      ]
     },
     "execution_count": 18,
     "metadata": {},
     "output_type": "execute_result"
    }
   ],
   "source": [
    "result_tfidf.take(10)"
   ]
  },
  {
   "cell_type": "code",
   "execution_count": 19,
   "metadata": {},
   "outputs": [],
   "source": [
    "num_topics = 15\n",
    "max_iterations = 10\n",
    "lda_model = LDA.train(result_tfidf.select('index','features').rdd.mapValues(Vectors.fromML).map(list), k=num_topics, maxIterations=max_iterations)"
   ]
  },
  {
   "cell_type": "code",
   "execution_count": 23,
   "metadata": {
    "scrolled": false
   },
   "outputs": [
    {
     "name": "stdout",
     "output_type": "stream",
     "text": [
      "topic nr0\n",
      "police 0.003026836559036033\n",
      "said 0.0023938428473666944\n",
      "chicago 0.0020294849055788183\n",
      "would 0.0017995959594099917\n",
      "people 0.0016666415414770958\n",
      "trump 0.0015995023813387603\n",
      "state 0.0015743508399034198\n",
      "like 0.0015265946731479112\n",
      "cubs 0.0014500453994729778\n",
      "illinois 0.0014153173379954965\n",
      "topic nr1\n",
      "police 0.002768799482063461\n",
      "said 0.002299502247016273\n",
      "chicago 0.0020386231761737586\n",
      "would 0.001847320725314155\n",
      "people 0.0017589152424858955\n",
      "cubs 0.001721257396690751\n",
      "like 0.001655846293608911\n",
      "shot 0.0015522402465540034\n",
      "school 0.00153653243389785\n",
      "first 0.0014661690712044026\n",
      "topic nr2\n",
      "police 0.0025155612302565594\n",
      "said 0.0022951863645676697\n",
      "chicago 0.001978295863316992\n",
      "would 0.0019377921653733615\n",
      "bears 0.001716779536532738\n",
      "people 0.0016631916703633315\n",
      "state 0.0016534585429663416\n",
      "like 0.0016200811698885266\n",
      "school 0.0015704608259383356\n",
      "trump 0.001547619164500908\n",
      "topic nr3\n",
      "dogs 0.0032956169204022127\n",
      "police 0.002768722719016405\n",
      "said 0.0024206995328072663\n",
      "chicago 0.0020151190172433566\n",
      "would 0.0018778288256718193\n",
      "people 0.001737789333071815\n",
      "giraffe 0.0016271478273564978\n",
      "state 0.0016262398324088123\n",
      "illinois 0.0015617883181503684\n",
      "like 0.0015330372799313716\n",
      "topic nr4\n",
      "police 0.0024342206055134753\n",
      "said 0.0023343794060010177\n",
      "trump 0.0020571725240778036\n",
      "would 0.0019341359591466773\n",
      "chicago 0.001902343948028897\n",
      "people 0.0016819575215184586\n",
      "like 0.0016363862243321393\n",
      "state 0.001589879527539443\n",
      "cubs 0.0014597239394514277\n",
      "city 0.0014252727767228815\n",
      "topic nr5\n",
      "police 0.002566792155148034\n",
      "said 0.002355921840298338\n",
      "chicago 0.0020282503872299826\n",
      "would 0.0018987722570876556\n",
      "people 0.0016737949372811884\n",
      "like 0.0016266759868798413\n",
      "trump 0.0015687138656785954\n",
      "cubs 0.0015539290800634818\n",
      "state 0.0015093223635586452\n",
      "first 0.0014341993865240677\n",
      "topic nr6\n",
      "police 0.002789366327222285\n",
      "said 0.0022501441514272565\n",
      "chicago 0.0021342826944637703\n",
      "bears 0.0019351267311815742\n",
      "would 0.0018087301616956518\n",
      "game 0.001729882032909102\n",
      "cubs 0.0016749807307108048\n",
      "people 0.0016183639521294057\n",
      "like 0.001617370565121989\n",
      "first 0.0015505753529519858\n",
      "topic nr7\n",
      "police 0.002821099885893579\n",
      "said 0.002492837897058131\n",
      "trump 0.002059501672276563\n",
      "chicago 0.001945538842829657\n",
      "would 0.0019396429294525578\n",
      "people 0.0017029340946457944\n",
      "state 0.0016576208921993145\n",
      "illinois 0.001615108250931204\n",
      "like 0.0015553777310171352\n",
      "first 0.0014185387807031866\n",
      "topic nr8\n",
      "police 0.0023853789433837505\n",
      "said 0.002276720212414108\n",
      "chicago 0.0019204102617216693\n",
      "would 0.001839467132940119\n",
      "cubs 0.0017266718929525883\n",
      "like 0.001700942346076328\n",
      "state 0.0015834693626423696\n",
      "people 0.001569058316734097\n",
      "school 0.0015440138870936111\n",
      "bears 0.0014712222431784653\n",
      "topic nr9\n",
      "police 0.0024644638429359685\n",
      "said 0.002357715122222305\n",
      "chicago 0.001959840444483578\n",
      "trump 0.001892248559329334\n",
      "would 0.0018621819040991632\n",
      "like 0.001661268651344353\n",
      "people 0.0016470113519055035\n",
      "state 0.00163235150754172\n",
      "cubs 0.0016237541882398838\n",
      "first 0.001504247763219819\n",
      "topic nr10\n",
      "police 0.002411198570422953\n",
      "said 0.002361131598348193\n",
      "chicago 0.0019570998837380293\n",
      "would 0.0019125923788406703\n",
      "trump 0.0018467440285449429\n",
      "state 0.0017494490127824348\n",
      "cubs 0.0017096251829282255\n",
      "people 0.001688057099434232\n",
      "like 0.0015928120132603241\n",
      "illinois 0.0014929527903038136\n",
      "topic nr11\n",
      "police 0.002702544572870425\n",
      "said 0.0023589581971472915\n",
      "trump 0.0019955873261871056\n",
      "bears 0.0019694177872817006\n",
      "would 0.00192953452299372\n",
      "chicago 0.0018879490533122182\n",
      "people 0.0016295845081744822\n",
      "cubs 0.001617964288312281\n",
      "like 0.0016090301304761156\n",
      "state 0.0015482706512374236\n",
      "topic nr12\n",
      "police 0.0024727757018359877\n",
      "said 0.0022347437083783043\n",
      "cubs 0.0020911874497710667\n",
      "chicago 0.002023810369089202\n",
      "would 0.0019453534781873596\n",
      "like 0.0017319583790421714\n",
      "people 0.0016911588420452058\n",
      "game 0.001585970791822816\n",
      "trump 0.0015421177479432791\n",
      "first 0.001504318899841228\n",
      "topic nr13\n",
      "photo 0.009838879966679087\n",
      "beachwood 0.009001200138719058\n",
      "police 0.0026359617063954977\n",
      "said 0.002194245996292083\n",
      "chicago 0.002139328027804309\n",
      "cubs 0.002048177312276345\n",
      "would 0.0018058719674598409\n",
      "like 0.0016238578177553593\n",
      "people 0.001623612825672237\n",
      "school 0.0014425576243967439\n",
      "topic nr14\n",
      "police 0.0027814720787353153\n",
      "said 0.0023217382568974446\n",
      "chicago 0.002092713588992616\n",
      "would 0.001812049846190247\n",
      "people 0.0016656960086523993\n",
      "state 0.001642287581689694\n",
      "trump 0.001559927309333987\n",
      "like 0.001550159519333233\n",
      "city 0.0015266652534951302\n",
      "school 0.0014959812794905884\n"
     ]
    }
   ],
   "source": [
    "wordNumbers = 10  \n",
    "topicIndices = lda_model.describeTopics(maxTermsPerTopic = wordNumbers)\n",
    "for x, topic in enumerate(topicIndices):\n",
    "    print( 'topic nr' + str(x))\n",
    "    words = topic[0]\n",
    "    weights = topic[1]\n",
    "    for n in range(len(words)):\n",
    "        print( cvmodel.vocabulary[words[n]] + ' ' + str(weights[n]))"
   ]
  },
  {
   "cell_type": "markdown",
   "metadata": {},
   "source": [
    "topicIndices = sc.parallelize(lda_model.describeTopics(maxTermsPerTopic = wordNumbers))\n",
    "def topic_render(topic):\n",
    "    terms = topic[0]\n",
    "    result = []\n",
    "    for i in range(wordNumbers):\n",
    "        term = vocabArray[terms[i]]\n",
    "        result.append(term)\n",
    "    return result\n",
    "topics_final = topicIndices.map(lambda topic: topic_render(topic)).collect()\n",
    "for topic in range(len(topics_final)):\n",
    "    print (\"Topic\" + str(topic) + \":\")\n",
    "    for term in topics_final[topic]:\n",
    "        print (term)\n",
    "    print ('\\n')"
   ]
  }
 ],
 "metadata": {
  "kernelspec": {
   "display_name": "Python 3",
   "language": "python",
   "name": "python3"
  },
  "language_info": {
   "codemirror_mode": {
    "name": "ipython",
    "version": 3
   },
   "file_extension": ".py",
   "mimetype": "text/x-python",
   "name": "python",
   "nbconvert_exporter": "python",
   "pygments_lexer": "ipython3",
   "version": "3.6.5"
  }
 },
 "nbformat": 4,
 "nbformat_minor": 2
}
