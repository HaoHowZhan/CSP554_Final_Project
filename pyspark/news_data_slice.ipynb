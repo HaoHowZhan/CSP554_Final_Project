{
 "cells": [
  {
   "cell_type": "code",
   "execution_count": 1,
   "metadata": {},
   "outputs": [],
   "source": [
    "import findspark\n",
    "findspark.init(\"/usr/hdp/2.6.5.0-292/spark2\")\n",
    "import pyspark\n",
    "sc = pyspark.SparkContext()"
   ]
  },
  {
   "cell_type": "code",
   "execution_count": 2,
   "metadata": {},
   "outputs": [],
   "source": [
    "import pandas as pd\n",
    "from pyspark.sql import SQLContext\n",
    "sqlContext = SQLContext(sc)"
   ]
  },
  {
   "cell_type": "code",
   "execution_count": 3,
   "metadata": {},
   "outputs": [],
   "source": [
    "news= sqlContext.read.csv('/user/maria_dev/data/newsarticles_article.csv', sep=',', escape='\"', header=False, inferSchema=True, multiLine=True)"
   ]
  },
  {
   "cell_type": "code",
   "execution_count": 4,
   "metadata": {},
   "outputs": [
    {
     "data": {
      "text/plain": [
       "Row(_c0=122140, _c1='A', _c2='http://abclocal.go.com/wls/story?section=news/local&id=9240864&rss=rss-wls-article-9240864', _c3=None, _c4='Ventra cards available for all users Monday | abc7chicago.com', _c5=\"![][1]\\n\\nSeptember 8, 2013 (CHICAGO) (WLS) --  Monday is a big day for the Chicago\\nTransit Authority and Pace as they roll out the Ventra Cards for all riders.\\n\\nVentra was rolled out to U-Pass Chicago card holders and Chicago Public School\\nstudents first.\\n\\nNow, all CTA users will be able to use the new system.\\n\\n####  Related Content\\n\\n[ Story:  CTA's Ventra cards in service Monday ][2]\\n\\n[ Story:  Ventra cards for sale online, by phone, at stores ][3]\\n\\n[ Story:  CTA waives Ventra card's $5 one-time fee ][4]\\n\\n[ Story:  CTA says it has fixed Ventra fare card glitch ][5]\\n\\n[ Story:  Ventra card use starting on CTA, Pace ][6]\\n\\n[ Story:  CTA, Pace to launch Ventra payment system ][7]\\n\\n[ Story:  August launch for CTA, Pace Ventra system ][8]\\n\\n[ Story:  CTA defends Ventra fare payment system ][9]\\n\\nYour existing fare cards will still work but that system will be discontinued\\nat the end of the year.\\n\\nCTA says it will have extra workers at train stations during the morning and\\nevening commute to answer any questions you may have.\\n\\n(Copyright (C)2013 WLS-TV/DT. All Rights Reserved.)\\n\\n  \\n\\n[ Get more Local » ][10]\\n\\n  \\n[ cta news ][11] , [ local ][10]\\n\\n   [1]: http://cdn.abclocal.go.com/static/art/global/icon_wls_byline.gif\\n   [2]: /wls/story?section=news/local&id=9236439\\n   [3]: /wls/story?section=news/local&id=9226109\\n   [4]: /wls/story?section=news/local&id=9225436\\n   [5]: /wls/story?section=news/local&id=9222561\\n   [6]: /wls/story?section=news/local&id=9195545\\n   [7]: /wls/story?section=news/local&id=9188601\\n   [8]: /wls/story?section=news/local&id=9151906\\n   [9]: /wls/story?section=news/local&id=9048809\\n   [10]: explore?section=wls/news/local\\n   [11]: explore?tag=cta-news\\n\", _c6='f', _c7='2013-09-09 14:09:06.165191+00', _c8='2013-09-23 14:38:23.080001+00', _c9=98, _c10=None)"
      ]
     },
     "execution_count": 4,
     "metadata": {},
     "output_type": "execute_result"
    }
   ],
   "source": [
    "news.first()"
   ]
  },
  {
   "cell_type": "code",
   "execution_count": 5,
   "metadata": {},
   "outputs": [],
   "source": [
    "news2017 = news.filter(news._c7.like('2017%') )"
   ]
  },
  {
   "cell_type": "code",
   "execution_count": null,
   "metadata": {},
   "outputs": [],
   "source": [
    "news2017.toPandas.to_csv(\"home/maria_dev/data/news2017.csv\")"
   ]
  },
  {
   "cell_type": "code",
   "execution_count": null,
   "metadata": {},
   "outputs": [],
   "source": []
  },
  {
   "cell_type": "code",
   "execution_count": null,
   "metadata": {},
   "outputs": [],
   "source": []
  },
  {
   "cell_type": "code",
   "execution_count": null,
   "metadata": {},
   "outputs": [],
   "source": []
  },
  {
   "cell_type": "code",
   "execution_count": null,
   "metadata": {},
   "outputs": [],
   "source": []
  },
  {
   "cell_type": "code",
   "execution_count": null,
   "metadata": {},
   "outputs": [],
   "source": []
  },
  {
   "cell_type": "code",
   "execution_count": null,
   "metadata": {},
   "outputs": [],
   "source": []
  },
  {
   "cell_type": "code",
   "execution_count": null,
   "metadata": {},
   "outputs": [],
   "source": []
  },
  {
   "cell_type": "code",
   "execution_count": null,
   "metadata": {},
   "outputs": [],
   "source": []
  },
  {
   "cell_type": "code",
   "execution_count": null,
   "metadata": {},
   "outputs": [],
   "source": []
  },
  {
   "cell_type": "code",
   "execution_count": 6,
   "metadata": {},
   "outputs": [],
   "source": [
    "#for row in news2017.rdd.collect():\n",
    "    "
   ]
  },
  {
   "cell_type": "code",
   "execution_count": null,
   "metadata": {},
   "outputs": [],
   "source": []
  }
 ],
 "metadata": {
  "kernelspec": {
   "display_name": "Python 3",
   "language": "python",
   "name": "python3"
  },
  "language_info": {
   "codemirror_mode": {
    "name": "ipython",
    "version": 3
   },
   "file_extension": ".py",
   "mimetype": "text/x-python",
   "name": "python",
   "nbconvert_exporter": "python",
   "pygments_lexer": "ipython3",
   "version": "3.6.5"
  }
 },
 "nbformat": 4,
 "nbformat_minor": 2
}
