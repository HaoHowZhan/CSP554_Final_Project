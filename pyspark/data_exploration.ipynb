{
 "cells": [
  {
   "cell_type": "code",
   "execution_count": 2,
   "metadata": {},
   "outputs": [],
   "source": [
    "import pandas as pd"
   ]
  },
  {
   "cell_type": "code",
   "execution_count": 5,
   "metadata": {},
   "outputs": [
    {
     "name": "stderr",
     "output_type": "stream",
     "text": [
      "/usr/lib/python3.6/site-packages/IPython/core/interactiveshell.py:3020: DtypeWarning: Columns (8) have mixed types. Specify dtype option on import or set low_memory=False.\n",
      "  interactivity=interactivity, compiler=compiler, result=result)\n"
     ]
    }
   ],
   "source": [
    "news=pd.read_csv('/home/maria_dev/news2017.csv')"
   ]
  },
  {
   "cell_type": "code",
   "execution_count": 6,
   "metadata": {
    "scrolled": false
   },
   "outputs": [
    {
     "data": {
      "text/html": [
       "<div>\n",
       "<style scoped>\n",
       "    .dataframe tbody tr th:only-of-type {\n",
       "        vertical-align: middle;\n",
       "    }\n",
       "\n",
       "    .dataframe tbody tr th {\n",
       "        vertical-align: top;\n",
       "    }\n",
       "\n",
       "    .dataframe thead th {\n",
       "        text-align: right;\n",
       "    }\n",
       "</style>\n",
       "<table border=\"1\" class=\"dataframe\">\n",
       "  <thead>\n",
       "    <tr style=\"text-align: right;\">\n",
       "      <th></th>\n",
       "      <th>Unnamed: 0</th>\n",
       "      <th>Unnamed: 0.1</th>\n",
       "      <th>article_id</th>\n",
       "      <th>url</th>\n",
       "      <th>relevant</th>\n",
       "      <th>created</th>\n",
       "      <th>last_modified</th>\n",
       "      <th>news_source_id</th>\n",
       "      <th>author</th>\n",
       "      <th>tag_date</th>\n",
       "      <th>relevant_c</th>\n",
       "      <th>user_id</th>\n",
       "      <th>locations</th>\n",
       "    </tr>\n",
       "  </thead>\n",
       "  <tbody>\n",
       "    <tr>\n",
       "      <th>0</th>\n",
       "      <td>0</td>\n",
       "      <td>0</td>\n",
       "      <td>122140</td>\n",
       "      <td>http://abclocal.go.com/wls/story?section=news/...</td>\n",
       "      <td>f</td>\n",
       "      <td>2013-09-09 14:09:06.165191+00</td>\n",
       "      <td>2013-09-23 14:38:23.080001+00</td>\n",
       "      <td>98</td>\n",
       "      <td>NaN</td>\n",
       "      <td>2017-05-01 00:02:40.643892+00</td>\n",
       "      <td>f</td>\n",
       "      <td>NaN</td>\n",
       "      <td>[]</td>\n",
       "    </tr>\n",
       "    <tr>\n",
       "      <th>1</th>\n",
       "      <td>1</td>\n",
       "      <td>1</td>\n",
       "      <td>122141</td>\n",
       "      <td>http://abclocal.go.com/wls/story?section=news/...</td>\n",
       "      <td>f</td>\n",
       "      <td>2013-09-09 14:09:07.943208+00</td>\n",
       "      <td>2013-09-23 14:38:07.687984+00</td>\n",
       "      <td>98</td>\n",
       "      <td>NaN</td>\n",
       "      <td>2017-05-01 00:02:40.648046+00</td>\n",
       "      <td>f</td>\n",
       "      <td>NaN</td>\n",
       "      <td>[]</td>\n",
       "    </tr>\n",
       "    <tr>\n",
       "      <th>2</th>\n",
       "      <td>2</td>\n",
       "      <td>2</td>\n",
       "      <td>122142</td>\n",
       "      <td>http://www.myfoxchicago.com/story/23377975/she...</td>\n",
       "      <td>f</td>\n",
       "      <td>2013-09-09 14:09:51.837171+00</td>\n",
       "      <td>2014-02-25 22:23:20.605934+00</td>\n",
       "      <td>109</td>\n",
       "      <td>NaN</td>\n",
       "      <td>2017-05-01 00:02:40.652147+00</td>\n",
       "      <td>f</td>\n",
       "      <td>NaN</td>\n",
       "      <td>[]</td>\n",
       "    </tr>\n",
       "    <tr>\n",
       "      <th>3</th>\n",
       "      <td>3</td>\n",
       "      <td>3</td>\n",
       "      <td>122143</td>\n",
       "      <td>http://www.beachwoodreporter.com/tv/24_hours_w...</td>\n",
       "      <td>f</td>\n",
       "      <td>2013-09-09 14:11:53.733228+00</td>\n",
       "      <td>2013-09-23 14:38:23.088423+00</td>\n",
       "      <td>99</td>\n",
       "      <td>NaN</td>\n",
       "      <td>2017-05-01 00:02:40.656527+00</td>\n",
       "      <td>f</td>\n",
       "      <td>NaN</td>\n",
       "      <td>[]</td>\n",
       "    </tr>\n",
       "    <tr>\n",
       "      <th>4</th>\n",
       "      <td>4</td>\n",
       "      <td>4</td>\n",
       "      <td>122144</td>\n",
       "      <td>http://www.beachwoodreporter.com/music/the_wee...</td>\n",
       "      <td>f</td>\n",
       "      <td>2013-09-09 14:11:54.776239+00</td>\n",
       "      <td>2013-09-23 14:38:23.093802+00</td>\n",
       "      <td>99</td>\n",
       "      <td>NaN</td>\n",
       "      <td>2017-05-01 00:02:40.660979+00</td>\n",
       "      <td>f</td>\n",
       "      <td>NaN</td>\n",
       "      <td>[]</td>\n",
       "    </tr>\n",
       "  </tbody>\n",
       "</table>\n",
       "</div>"
      ],
      "text/plain": [
       "   Unnamed: 0  Unnamed: 0.1  article_id  \\\n",
       "0           0             0      122140   \n",
       "1           1             1      122141   \n",
       "2           2             2      122142   \n",
       "3           3             3      122143   \n",
       "4           4             4      122144   \n",
       "\n",
       "                                                 url relevant  \\\n",
       "0  http://abclocal.go.com/wls/story?section=news/...        f   \n",
       "1  http://abclocal.go.com/wls/story?section=news/...        f   \n",
       "2  http://www.myfoxchicago.com/story/23377975/she...        f   \n",
       "3  http://www.beachwoodreporter.com/tv/24_hours_w...        f   \n",
       "4  http://www.beachwoodreporter.com/music/the_wee...        f   \n",
       "\n",
       "                         created                  last_modified  \\\n",
       "0  2013-09-09 14:09:06.165191+00  2013-09-23 14:38:23.080001+00   \n",
       "1  2013-09-09 14:09:07.943208+00  2013-09-23 14:38:07.687984+00   \n",
       "2  2013-09-09 14:09:51.837171+00  2014-02-25 22:23:20.605934+00   \n",
       "3  2013-09-09 14:11:53.733228+00  2013-09-23 14:38:23.088423+00   \n",
       "4  2013-09-09 14:11:54.776239+00  2013-09-23 14:38:23.093802+00   \n",
       "\n",
       "   news_source_id author                       tag_date relevant_c  user_id  \\\n",
       "0              98    NaN  2017-05-01 00:02:40.643892+00          f      NaN   \n",
       "1              98    NaN  2017-05-01 00:02:40.648046+00          f      NaN   \n",
       "2             109    NaN  2017-05-01 00:02:40.652147+00          f      NaN   \n",
       "3              99    NaN  2017-05-01 00:02:40.656527+00          f      NaN   \n",
       "4              99    NaN  2017-05-01 00:02:40.660979+00          f      NaN   \n",
       "\n",
       "  locations  \n",
       "0        []  \n",
       "1        []  \n",
       "2        []  \n",
       "3        []  \n",
       "4        []  "
      ]
     },
     "execution_count": 6,
     "metadata": {},
     "output_type": "execute_result"
    }
   ],
   "source": [
    "news.head()"
   ]
  },
  {
   "cell_type": "code",
   "execution_count": 8,
   "metadata": {},
   "outputs": [],
   "source": [
    "location=pd.read_csv('/home/maria_dev/data/locations.csv')"
   ]
  },
  {
   "cell_type": "code",
   "execution_count": 9,
   "metadata": {},
   "outputs": [
    {
     "data": {
      "text/html": [
       "<div>\n",
       "<style scoped>\n",
       "    .dataframe tbody tr th:only-of-type {\n",
       "        vertical-align: middle;\n",
       "    }\n",
       "\n",
       "    .dataframe tbody tr th {\n",
       "        vertical-align: top;\n",
       "    }\n",
       "\n",
       "    .dataframe thead th {\n",
       "        text-align: right;\n",
       "    }\n",
       "</style>\n",
       "<table border=\"1\" class=\"dataframe\">\n",
       "  <thead>\n",
       "    <tr style=\"text-align: right;\">\n",
       "      <th></th>\n",
       "      <th>Unnamed: 0</th>\n",
       "      <th>id</th>\n",
       "      <th>text</th>\n",
       "      <th>latitude</th>\n",
       "      <th>longitude</th>\n",
       "      <th>coding_id</th>\n",
       "      <th>confidence</th>\n",
       "      <th>neighborhood</th>\n",
       "    </tr>\n",
       "  </thead>\n",
       "  <tbody>\n",
       "    <tr>\n",
       "      <th>0</th>\n",
       "      <td>0</td>\n",
       "      <td>690685</td>\n",
       "      <td>Illinois governor’s</td>\n",
       "      <td>42.274002</td>\n",
       "      <td>-88.227908</td>\n",
       "      <td>1379932</td>\n",
       "      <td>0.903</td>\n",
       "      <td>NaN</td>\n",
       "    </tr>\n",
       "    <tr>\n",
       "      <th>1</th>\n",
       "      <td>1</td>\n",
       "      <td>690686</td>\n",
       "      <td>Side Rogers Park</td>\n",
       "      <td>42.159747</td>\n",
       "      <td>-88.141467</td>\n",
       "      <td>1379934</td>\n",
       "      <td>0.881</td>\n",
       "      <td>NaN</td>\n",
       "    </tr>\n",
       "    <tr>\n",
       "      <th>2</th>\n",
       "      <td>2</td>\n",
       "      <td>690687</td>\n",
       "      <td>Far South Side. The</td>\n",
       "      <td>41.793725</td>\n",
       "      <td>-87.634218</td>\n",
       "      <td>1379935</td>\n",
       "      <td>0.908</td>\n",
       "      <td>ENGLEWOOD</td>\n",
       "    </tr>\n",
       "    <tr>\n",
       "      <th>3</th>\n",
       "      <td>3</td>\n",
       "      <td>690688</td>\n",
       "      <td>block of South Perry Avenue</td>\n",
       "      <td>41.653691</td>\n",
       "      <td>-87.447701</td>\n",
       "      <td>1379935</td>\n",
       "      <td>0.887</td>\n",
       "      <td>NaN</td>\n",
       "    </tr>\n",
       "    <tr>\n",
       "      <th>4</th>\n",
       "      <td>4</td>\n",
       "      <td>690689</td>\n",
       "      <td>West Pullman</td>\n",
       "      <td>41.673497</td>\n",
       "      <td>-87.634937</td>\n",
       "      <td>1379935</td>\n",
       "      <td>1.000</td>\n",
       "      <td>WEST PULLMAN</td>\n",
       "    </tr>\n",
       "  </tbody>\n",
       "</table>\n",
       "</div>"
      ],
      "text/plain": [
       "   Unnamed: 0      id                         text   latitude  longitude  \\\n",
       "0           0  690685          Illinois governor’s  42.274002 -88.227908   \n",
       "1           1  690686             Side Rogers Park  42.159747 -88.141467   \n",
       "2           2  690687          Far South Side. The  41.793725 -87.634218   \n",
       "3           3  690688  block of South Perry Avenue  41.653691 -87.447701   \n",
       "4           4  690689                 West Pullman  41.673497 -87.634937   \n",
       "\n",
       "   coding_id  confidence  neighborhood  \n",
       "0    1379932       0.903           NaN  \n",
       "1    1379934       0.881           NaN  \n",
       "2    1379935       0.908     ENGLEWOOD  \n",
       "3    1379935       0.887           NaN  \n",
       "4    1379935       1.000  WEST PULLMAN  "
      ]
     },
     "execution_count": 9,
     "metadata": {},
     "output_type": "execute_result"
    }
   ],
   "source": [
    "location.head()"
   ]
  },
  {
   "cell_type": "code",
   "execution_count": 10,
   "metadata": {},
   "outputs": [
    {
     "data": {
      "text/plain": [
       "Unnamed: 0      292766\n",
       "id              292766\n",
       "text            292766\n",
       "latitude        292766\n",
       "longitude       292766\n",
       "coding_id       292766\n",
       "confidence      292766\n",
       "neighborhood    189410\n",
       "dtype: int64"
      ]
     },
     "execution_count": 10,
     "metadata": {},
     "output_type": "execute_result"
    }
   ],
   "source": [
    "location.count()"
   ]
  },
  {
   "cell_type": "code",
   "execution_count": 13,
   "metadata": {},
   "outputs": [
    {
     "data": {
      "text/plain": [
       "(133790,)"
      ]
     },
     "execution_count": 13,
     "metadata": {},
     "output_type": "execute_result"
    }
   ],
   "source": [
    "location.coding_id.unique().shape"
   ]
  },
  {
   "cell_type": "code",
   "execution_count": 15,
   "metadata": {},
   "outputs": [
    {
     "data": {
      "text/plain": [
       "910781"
      ]
     },
     "execution_count": 15,
     "metadata": {},
     "output_type": "execute_result"
    }
   ],
   "source": [
    "location.coding_id.min()"
   ]
  }
 ],
 "metadata": {
  "kernelspec": {
   "display_name": "Python 3",
   "language": "python",
   "name": "python3"
  },
  "language_info": {
   "codemirror_mode": {
    "name": "ipython",
    "version": 3
   },
   "file_extension": ".py",
   "mimetype": "text/x-python",
   "name": "python",
   "nbconvert_exporter": "python",
   "pygments_lexer": "ipython3",
   "version": "3.6.5"
  }
 },
 "nbformat": 4,
 "nbformat_minor": 2
}
