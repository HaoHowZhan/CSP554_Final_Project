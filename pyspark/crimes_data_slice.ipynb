{
 "cells": [
  {
   "cell_type": "code",
   "execution_count": 1,
   "metadata": {},
   "outputs": [],
   "source": [
    "import findspark"
   ]
  },
  {
   "cell_type": "code",
   "execution_count": 2,
   "metadata": {},
   "outputs": [],
   "source": [
    "findspark.init(\"/usr/hdp/2.6.5.0-292/spark2\")"
   ]
  },
  {
   "cell_type": "code",
   "execution_count": 3,
   "metadata": {},
   "outputs": [],
   "source": [
    "import pyspark"
   ]
  },
  {
   "cell_type": "code",
   "execution_count": 4,
   "metadata": {},
   "outputs": [],
   "source": [
    "sc = pyspark.SparkContext(appName=\"crimes_data_slice\")"
   ]
  },
  {
   "cell_type": "code",
   "execution_count": 5,
   "metadata": {},
   "outputs": [
    {
     "data": {
      "text/plain": [
       "'2.3.0.2.6.5.0-292'"
      ]
     },
     "execution_count": 5,
     "metadata": {},
     "output_type": "execute_result"
    }
   ],
   "source": [
    "sc.version"
   ]
  },
  {
   "cell_type": "code",
   "execution_count": 6,
   "metadata": {},
   "outputs": [],
   "source": [
    "from pyspark.sql import SQLContext\n",
    "from pyspark.sql.types import *\n",
    "sqlc = SQLContext(sc)"
   ]
  },
  {
   "cell_type": "code",
   "execution_count": 7,
   "metadata": {},
   "outputs": [],
   "source": [
    "df = sqlc.read.csv(\"/user/maria_dev/data/crimes/Crimes.csv\",header='true')"
   ]
  },
  {
   "cell_type": "code",
   "execution_count": 8,
   "metadata": {},
   "outputs": [
    {
     "data": {
      "text/plain": [
       "[Row(ID='10000092', Case Number='HY189866', Date='03/18/2015 07:44:00 PM', Block='047XX W OHIO ST', IUCR='041A', Primary Type='BATTERY', Description='AGGRAVATED: HANDGUN', Location Description='STREET', Arrest='false', Domestic='false', Beat='1111', District='011', Ward='28', Community Area='25', FBI Code='04B', X Coordinate='1144606', Y Coordinate='1903566', Year='2015', Updated On='02/10/2018 03:50:01 PM', Latitude='41.891398861', Longitude='-87.744384567', Location='(41.891398861, -87.744384567)'),\n",
       " Row(ID='10000094', Case Number='HY190059', Date='03/18/2015 11:00:00 PM', Block='066XX S MARSHFIELD AVE', IUCR='4625', Primary Type='OTHER OFFENSE', Description='PAROLE VIOLATION', Location Description='STREET', Arrest='true', Domestic='false', Beat='0725', District='007', Ward='15', Community Area='67', FBI Code='26', X Coordinate='1166468', Y Coordinate='1860715', Year='2015', Updated On='02/10/2018 03:50:01 PM', Latitude='41.773371528', Longitude='-87.665319468', Location='(41.773371528, -87.665319468)'),\n",
       " Row(ID='10000095', Case Number='HY190052', Date='03/18/2015 10:45:00 PM', Block='044XX S LAKE PARK AVE', IUCR='0486', Primary Type='BATTERY', Description='DOMESTIC BATTERY SIMPLE', Location Description='APARTMENT', Arrest='false', Domestic='true', Beat='0222', District='002', Ward='4', Community Area='39', FBI Code='08B', X Coordinate='1185075', Y Coordinate='1875622', Year='2015', Updated On='02/10/2018 03:50:01 PM', Latitude='41.81386068', Longitude='-87.596642837', Location='(41.81386068, -87.596642837)'),\n",
       " Row(ID='10000096', Case Number='HY190054', Date='03/18/2015 10:30:00 PM', Block='051XX S MICHIGAN AVE', IUCR='0460', Primary Type='BATTERY', Description='SIMPLE', Location Description='APARTMENT', Arrest='false', Domestic='false', Beat='0225', District='002', Ward='3', Community Area='40', FBI Code='08B', X Coordinate='1178033', Y Coordinate='1870804', Year='2015', Updated On='02/10/2018 03:50:01 PM', Latitude='41.800802415', Longitude='-87.622619343', Location='(41.800802415, -87.622619343)'),\n",
       " Row(ID='10000097', Case Number='HY189976', Date='03/18/2015 09:00:00 PM', Block='047XX W ADAMS ST', IUCR='031A', Primary Type='ROBBERY', Description='ARMED: HANDGUN', Location Description='SIDEWALK', Arrest='false', Domestic='false', Beat='1113', District='011', Ward='28', Community Area='25', FBI Code='03', X Coordinate='1144920', Y Coordinate='1898709', Year='2015', Updated On='02/10/2018 03:50:01 PM', Latitude='41.878064761', Longitude='-87.743354013', Location='(41.878064761, -87.743354013)'),\n",
       " Row(ID='10000098', Case Number='HY190032', Date='03/18/2015 10:00:00 PM', Block='049XX S DREXEL BLVD', IUCR='0460', Primary Type='BATTERY', Description='SIMPLE', Location Description='APARTMENT', Arrest='false', Domestic='false', Beat='0223', District='002', Ward='4', Community Area='39', FBI Code='08B', X Coordinate='1183018', Y Coordinate='1872537', Year='2015', Updated On='02/10/2018 03:50:01 PM', Latitude='41.805443345', Longitude='-87.604283976', Location='(41.805443345, -87.604283976)'),\n",
       " Row(ID='10000099', Case Number='HY190047', Date='03/18/2015 11:00:00 PM', Block='070XX S MORGAN ST', IUCR='0486', Primary Type='BATTERY', Description='DOMESTIC BATTERY SIMPLE', Location Description='APARTMENT', Arrest='false', Domestic='true', Beat='0733', District='007', Ward='17', Community Area='68', FBI Code='08B', X Coordinate='1170859', Y Coordinate='1858210', Year='2015', Updated On='02/10/2018 03:50:01 PM', Latitude='41.766402779', Longitude='-87.649296123', Location='(41.766402779, -87.649296123)'),\n",
       " Row(ID='10000100', Case Number='HY189988', Date='03/18/2015 09:35:00 PM', Block='042XX S PRAIRIE AVE', IUCR='0486', Primary Type='BATTERY', Description='DOMESTIC BATTERY SIMPLE', Location Description='APARTMENT', Arrest='false', Domestic='true', Beat='0213', District='002', Ward='3', Community Area='38', FBI Code='08B', X Coordinate='1178746', Y Coordinate='1876914', Year='2015', Updated On='02/10/2018 03:50:01 PM', Latitude='41.817552577', Longitude='-87.619818523', Location='(41.817552577, -87.619818523)'),\n",
       " Row(ID='10000101', Case Number='HY190020', Date='03/18/2015 10:09:00 PM', Block='036XX S WOLCOTT AVE', IUCR='1811', Primary Type='NARCOTICS', Description='POSS: CANNABIS 30GMS OR LESS', Location Description='STREET', Arrest='true', Domestic='false', Beat='0912', District='009', Ward='11', Community Area='59', FBI Code='18', X Coordinate='1164279', Y Coordinate='1880656', Year='2015', Updated On='02/10/2018 03:50:01 PM', Latitude='41.828138428', Longitude='-87.672782106', Location='(41.828138428, -87.672782106)'),\n",
       " Row(ID='10000104', Case Number='HY189964', Date='03/18/2015 09:25:00 PM', Block='097XX S PRAIRIE AVE', IUCR='0460', Primary Type='BATTERY', Description='SIMPLE', Location Description='RESIDENCE PORCH/HALLWAY', Arrest='false', Domestic='false', Beat='0511', District='005', Ward='6', Community Area='49', FBI Code='08B', X Coordinate='1179637', Y Coordinate='1840444', Year='2015', Updated On='02/10/2018 03:50:01 PM', Latitude='41.71745472', Longitude='-87.617663257', Location='(41.71745472, -87.617663257)')]"
      ]
     },
     "execution_count": 8,
     "metadata": {},
     "output_type": "execute_result"
    }
   ],
   "source": [
    "df.head(10)"
   ]
  },
  {
   "cell_type": "code",
   "execution_count": 9,
   "metadata": {},
   "outputs": [],
   "source": [
    "df2 = df.filter('Year=2018')"
   ]
  },
  {
   "cell_type": "code",
   "execution_count": 10,
   "metadata": {},
   "outputs": [
    {
     "data": {
      "text/plain": [
       "[Row(ID='11223717', Case Number='JB141803', Date='02/04/2018 03:25:00 PM', Block='044XX W WASHINGTON BLVD', IUCR='1153', Primary Type='DECEPTIVE PRACTICE', Description='FINANCIAL IDENTITY THEFT OVER $ 300', Location Description=None, Arrest='false', Domestic='false', Beat='1113', District='011', Ward='28', Community Area='26', FBI Code='11', X Coordinate=None, Y Coordinate=None, Year='2018', Updated On='02/11/2018 03:57:41 PM', Latitude=None, Longitude=None, Location=None),\n",
       " Row(ID='23810', Case Number='JB140548', Date='02/04/2018 01:36:00 AM', Block='117XX S SANGAMON ST', IUCR='0110', Primary Type='HOMICIDE', Description='FIRST DEGREE MURDER', Location Description='STREET', Arrest='false', Domestic='false', Beat='0524', District='005', Ward='34', Community Area='53', FBI Code='01A', X Coordinate='1172100', Y Coordinate='1827003', Year='2018', Updated On='02/11/2018 03:57:41 PM', Latitude='41.68073915', Longitude='-87.645661144', Location='(41.68073915, -87.645661144)'),\n",
       " Row(ID='11225457', Case Number='JB144550', Date='02/05/2018 06:00:00 PM', Block='013XX N LA SALLE DR', IUCR='0890', Primary Type='THEFT', Description='FROM BUILDING', Location Description='RESIDENCE-GARAGE', Arrest='false', Domestic='false', Beat='1821', District='018', Ward='43', Community Area='8', FBI Code='06', X Coordinate=None, Y Coordinate=None, Year='2018', Updated On='02/12/2018 03:49:14 PM', Latitude=None, Longitude=None, Location=None),\n",
       " Row(ID='11228287', Case Number='JB148482', Date='01/03/2018 03:45:00 PM', Block='0000X W C1 ST', IUCR='0810', Primary Type='THEFT', Description='OVER $500', Location Description='AIRPORT TERMINAL LOWER LEVEL - NON-SECURE AREA', Arrest='false', Domestic='false', Beat='1651', District='016', Ward='41', Community Area='76', FBI Code='06', X Coordinate=None, Y Coordinate=None, Year='2018', Updated On='02/12/2018 03:49:14 PM', Latitude=None, Longitude=None, Location=None),\n",
       " Row(ID='23811', Case Number='JB141441', Date='02/05/2018 01:10:00 AM', Block='118XX S INDIANA AVE', IUCR='0110', Primary Type='HOMICIDE', Description='FIRST DEGREE MURDER', Location Description='VACANT LOT', Arrest='false', Domestic='false', Beat='0532', District='005', Ward='9', Community Area='53', FBI Code='01A', X Coordinate='1179707', Y Coordinate='1826280', Year='2018', Updated On='02/12/2018 03:49:14 PM', Latitude='41.678585145', Longitude='-87.617837834', Location='(41.678585145, -87.617837834)'),\n",
       " Row(ID='11223707', Case Number='JB141873', Date='02/05/2018 12:00:00 AM', Block='061XX N KENMORE AVE', IUCR='2820', Primary Type='OTHER OFFENSE', Description='TELEPHONE THREAT', Location Description='RESIDENCE', Arrest='false', Domestic='false', Beat='2433', District='024', Ward='48', Community Area='77', FBI Code='26', X Coordinate=None, Y Coordinate=None, Year='2018', Updated On='02/12/2018 03:49:14 PM', Latitude=None, Longitude=None, Location=None),\n",
       " Row(ID='11223630', Case Number='JB140001', Date='02/03/2018 02:40:00 PM', Block='050XX S COTTAGE GROVE AVE', IUCR='1310', Primary Type='CRIMINAL DAMAGE', Description='TO PROPERTY', Location Description='SMALL RETAIL STORE', Arrest='false', Domestic='false', Beat='0223', District='002', Ward='4', Community Area='38', FBI Code='14', X Coordinate='1182443', Y Coordinate='1871599', Year='2018', Updated On='05/04/2018 03:51:04 PM', Latitude='41.802882762', Longitude='-87.606421915', Location='(41.802882762, -87.606421915)'),\n",
       " Row(ID='23812', Case Number='JB142661', Date='02/06/2018 04:10:00 AM', Block='062XX S MAY ST', IUCR='0110', Primary Type='HOMICIDE', Description='FIRST DEGREE MURDER', Location Description='APARTMENT', Arrest='false', Domestic='false', Beat='0712', District='007', Ward='16', Community Area='68', FBI Code='01A', X Coordinate='1169720', Y Coordinate='1863456', Year='2018', Updated On='02/13/2018 03:58:53 PM', Latitude='41.78082323', Longitude='-87.653318937', Location='(41.78082323, -87.653318937)'),\n",
       " Row(ID='11224569', Case Number='JB143064', Date='02/06/2018 08:01:00 AM', Block='035XX S ARCHER AVE', IUCR='0560', Primary Type='ASSAULT', Description='SIMPLE', Location Description='VEHICLE NON-COMMERCIAL', Arrest='false', Domestic='false', Beat='0912', District='009', Ward='11', Community Area='59', FBI Code='08A', X Coordinate=None, Y Coordinate=None, Year='2018', Updated On='02/13/2018 03:58:53 PM', Latitude=None, Longitude=None, Location=None),\n",
       " Row(ID='11226269', Case Number='JB145700', Date='02/07/2018 06:00:00 PM', Block='016XX W GARFIELD BLVD', IUCR='0810', Primary Type='THEFT', Description='OVER $500', Location Description='CTA BUS', Arrest='false', Domestic='false', Beat='0932', District='009', Ward='16', Community Area='61', FBI Code='06', X Coordinate=None, Y Coordinate=None, Year='2018', Updated On='02/14/2018 03:52:17 PM', Latitude=None, Longitude=None, Location=None)]"
      ]
     },
     "execution_count": 10,
     "metadata": {},
     "output_type": "execute_result"
    }
   ],
   "source": [
    "df2.head(10)"
   ]
  },
  {
   "cell_type": "code",
   "execution_count": 11,
   "metadata": {},
   "outputs": [
    {
     "data": {
      "text/plain": [
       "233269"
      ]
     },
     "execution_count": 11,
     "metadata": {},
     "output_type": "execute_result"
    }
   ],
   "source": [
    "df2.count()"
   ]
  },
  {
   "cell_type": "code",
   "execution_count": 12,
   "metadata": {},
   "outputs": [],
   "source": [
    "df3=df.groupby('Year').count()"
   ]
  },
  {
   "cell_type": "code",
   "execution_count": 13,
   "metadata": {},
   "outputs": [
    {
     "data": {
      "text/plain": [
       "[Row(Year='2016', count=268820),\n",
       " Row(Year='2012', count=335923),\n",
       " Row(Year='2017', count=267811),\n",
       " Row(Year='2014', count=275202),\n",
       " Row(Year='2013', count=307034),\n",
       " Row(Year='2005', count=453703),\n",
       " Row(Year='2002', count=486753),\n",
       " Row(Year='2009', count=392664),\n",
       " Row(Year='2018', count=233269),\n",
       " Row(Year='2006', count=448097),\n",
       " Row(Year='2004', count=469381),\n",
       " Row(Year='2011', count=351750),\n",
       " Row(Year='2008', count=427038),\n",
       " Row(Year='2007', count=436999),\n",
       " Row(Year='2015', count=263930),\n",
       " Row(Year='2001', count=485749),\n",
       " Row(Year='2010', count=370290),\n",
       " Row(Year='2003', count=475936)]"
      ]
     },
     "execution_count": 13,
     "metadata": {},
     "output_type": "execute_result"
    }
   ],
   "source": [
    "df3.head(20)"
   ]
  },
  {
   "cell_type": "code",
   "execution_count": 16,
   "metadata": {},
   "outputs": [],
   "source": [
    "import pandas as pd\n",
    "df2.toPandas().to_csv(\"Crimes2018.csv\")"
   ]
  },
  {
   "cell_type": "code",
   "execution_count": null,
   "metadata": {},
   "outputs": [],
   "source": []
  },
  {
   "cell_type": "code",
   "execution_count": null,
   "metadata": {},
   "outputs": [],
   "source": []
  }
 ],
 "metadata": {
  "kernelspec": {
   "display_name": "Python 3",
   "language": "python",
   "name": "python3"
  },
  "language_info": {
   "codemirror_mode": {
    "name": "ipython",
    "version": 3
   },
   "file_extension": ".py",
   "mimetype": "text/x-python",
   "name": "python",
   "nbconvert_exporter": "python",
   "pygments_lexer": "ipython3",
   "version": "3.6.5"
  }
 },
 "nbformat": 4,
 "nbformat_minor": 2
}
