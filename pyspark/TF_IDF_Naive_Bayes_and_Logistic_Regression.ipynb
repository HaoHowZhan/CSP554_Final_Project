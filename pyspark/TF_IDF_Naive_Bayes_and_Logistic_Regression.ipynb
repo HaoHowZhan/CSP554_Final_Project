{
 "cells": [
  {
   "cell_type": "code",
   "execution_count": 1,
   "metadata": {},
   "outputs": [],
   "source": [
    "import findspark\n",
    "findspark.init(\"/usr/hdp/2.6.5.0-292/spark2\")\n",
    "import pyspark\n",
    "sc = pyspark.SparkContext()"
   ]
  },
  {
   "cell_type": "code",
   "execution_count": 2,
   "metadata": {},
   "outputs": [],
   "source": [
    "import pandas as pd\n",
    "import pyspark\n",
    "from pyspark.sql import SQLContext\n",
    "sqlContext = SQLContext(sc)"
   ]
  },
  {
   "cell_type": "code",
   "execution_count": 3,
   "metadata": {},
   "outputs": [],
   "source": [
    "from nltk.corpus import stopwords\n",
    "import re as re"
   ]
  },
  {
   "cell_type": "code",
   "execution_count": 4,
   "metadata": {},
   "outputs": [],
   "source": [
    "from pyspark.ml.feature import CountVectorizer , IDF"
   ]
  },
  {
   "cell_type": "code",
   "execution_count": 5,
   "metadata": {},
   "outputs": [],
   "source": [
    "from pyspark.mllib.linalg import Vector, Vectors\n",
    "from pyspark.mllib.clustering import LDA, LDAModel"
   ]
  },
  {
   "cell_type": "code",
   "execution_count": 6,
   "metadata": {},
   "outputs": [
    {
     "data": {
      "text/plain": [
       "465160"
      ]
     },
     "execution_count": 6,
     "metadata": {},
     "output_type": "execute_result"
    }
   ],
   "source": [
    "sqlContext.read.csv('/user/maria_dev/data/newsarticles_article.csv', sep=',', escape='\"', header=True, \n",
    "               inferSchema=True, multiLine=True).count()"
   ]
  },
  {
   "cell_type": "code",
   "execution_count": 7,
   "metadata": {},
   "outputs": [],
   "source": [
    "data = sqlContext.read.csv('/user/maria_dev/data/newsarticles_article.csv', sep=',', escape='\"', header=False, \n",
    "               inferSchema=True, multiLine=True)\n",
    "tag = sqlContext.read.csv('/user/maria_dev/data/tags.csv', sep=',',  header=True, inferSchema=True, multiLine=True).withColumnRenamed(\"article_id\\r\", \"article_id\")"
   ]
  },
  {
   "cell_type": "code",
   "execution_count": 8,
   "metadata": {},
   "outputs": [],
   "source": [
    "#data.head()"
   ]
  },
  {
   "cell_type": "code",
   "execution_count": 9,
   "metadata": {},
   "outputs": [],
   "source": [
    "# tag.columns  "
   ]
  },
  {
   "cell_type": "code",
   "execution_count": 10,
   "metadata": {},
   "outputs": [],
   "source": [
    "#tag.head()"
   ]
  },
  {
   "cell_type": "code",
   "execution_count": 11,
   "metadata": {},
   "outputs": [],
   "source": [
    "df = data.join(tag, data._c0 == tag.article_id )"
   ]
  },
  {
   "cell_type": "code",
   "execution_count": 12,
   "metadata": {},
   "outputs": [],
   "source": [
    "# df.count()"
   ]
  },
  {
   "cell_type": "code",
   "execution_count": 13,
   "metadata": {},
   "outputs": [],
   "source": [
    "# df =df.na.drop(subset=['category_id','_c4','_c5'])"
   ]
  },
  {
   "cell_type": "code",
   "execution_count": 14,
   "metadata": {},
   "outputs": [],
   "source": [
    "#df.count()"
   ]
  },
  {
   "cell_type": "code",
   "execution_count": 15,
   "metadata": {},
   "outputs": [],
   "source": [
    "df2 = df.sample(False, 0.2) "
   ]
  },
  {
   "cell_type": "code",
   "execution_count": 16,
   "metadata": {},
   "outputs": [],
   "source": [
    "dfsplit = df2.randomSplit([1.0, 2.0],24)"
   ]
  },
  {
   "cell_type": "code",
   "execution_count": 17,
   "metadata": {},
   "outputs": [],
   "source": [
    "# dfsplit[0].count()"
   ]
  },
  {
   "cell_type": "code",
   "execution_count": 18,
   "metadata": {},
   "outputs": [],
   "source": [
    "# dfsplit[1].count()"
   ]
  },
  {
   "cell_type": "code",
   "execution_count": 19,
   "metadata": {},
   "outputs": [],
   "source": [
    "reviews_train = dfsplit[0].rdd.map(lambda x : str(x['_c4']) + str(x['_c5']))\n",
    "reviews_test = dfsplit[1].rdd.map(lambda x : str(x['_c4']) + str(x['_c5']))"
   ]
  },
  {
   "cell_type": "code",
   "execution_count": 20,
   "metadata": {},
   "outputs": [
    {
     "data": {
      "text/plain": [
       "['‘Who does that?’ victim asks of gunman who opened fire on park filled with kids - Chicago Sun-Times#  ‘Who does that?’ victim asks of gunman who opened fire on park filled with\\nkids\\n\\nBY FRANK MAIN, TINA SFONDELES, FRAN SPIELMAN AND STEFANO ESPOSITO Staff\\nReporters  September 20, 2013 8:23AM\\n\\n25184020\\n\\n13 INJURED IN SHOOTING\\n\\nPolice provided this information on the victims:\\n\\n◆ The 3-year-old boy was shot in the face, in critical condition at Mt. Sinai.\\n\\n◆ A 15-year-old boy was shot in the arm, in stable condition at Holy Cross.\\n\\n◆ A 17-year-old girl was shot in the foot, in stable condition at Holy Cross.\\n\\n◆ A 23-year-old woman was shot in the foot, in stable condition at St.\\nAnthony.\\n\\n◆ A 31-year-old man was shot in the buttocks, in stable condition at\\nNorthwestern.\\n\\n◆ A 28-year-old man was shot in the wrist, leg and hip, in unknown condition\\nat Mt. Sinai.\\n\\n◆ A 41-year-old man was shot in the buttocks, in serious condition at Stroger.\\n\\n◆ A 26-year-old man was shot in the leg, in serious condition at Mt. Sinai.\\n\\n◆ A 25-year-old man was shot in the abdomen, in serious condition at Mt.\\nSinai.\\n\\n◆ A 37-year-old man was shot in the thigh, in good condition at Stroger.\\n\\n◆ A 21-year-old man was shot in the leg, in good condition at Northwestern.\\n\\n◆ A 23-year-old man was shot in the thigh in stable condition at Little\\nCompany of Mary.\\n\\n◆ A 33-year-old woman was shot in the back/shoulder, in stable condition at\\nNorthwestern.\\n\\n#####  Article Extras\\n\\n![Story Image][1]\\n\\n####  Related Stories\\n\\n  * [ 2 men killed, 9 people injured in gun violence  ][2]\\n  * [ 13 shot — including a 3-year-old boy — in Back of the Yards  ][3]\\n  * [ Violence has a history of re-shaping mayoral travel plans  ][4]\\n  * [ Near mass shooting, 2 houses with children riddled with bullets  ][5]\\n  * [ Four killed, four injured in weekend violence  ][6]\\n  * [ Quinn open to deploying State Police to Chicago to curb violence  ][7]\\n  * [ Two charged in shooting of 13 in South Side park — neither believed trigge\\nrman  ][8]\\n\\n#####  Maps\\n\\nUpdated:  September 21, 2013 2:09AM\\n\\n  \\n  \\n\\nMayor Rahm Emanuel flew back from Washington on Friday to quarterback the\\npolice response to a gang-related shooting of 13 people that returned\\nChicago’s violence to the national conversation.\\n\\nPolice Supt. Garry McCarthy said a gunman fired at least 16 rounds of 7.62 mm\\nbullets into Cornell Square Park near 51st and Wood in the Back of the Yards\\nneighborhood.\\n\\nThe bullets — which left a 3-year-old boy critically wounded — are used in\\nmilitary-style rifles, McCarthy said, calling for stronger gun control\\nmeasures, including a ban on assault weapons.\\n\\n“Illegal guns, illegal guns, illegal guns drive violence,” he said. “This is\\nsomething that we can’t accept as OK in a civilized society.”\\n\\nAssault rifles, he added, “belong on a battlefield.”\\n\\nThe White House also responded to the violence, with a pledge that President\\nBarack Obama would continue to press Congress to pass “commonsense measures”\\nto combat gun violence.\\n\\n“The President was dismayed to learn of yet another deplorable act of gun\\nviolence, this time in his hometown of Chicago,” said White House spokeswoman\\nJoanna Rosholm. “He sends his thoughts and prayers to the several victims who\\nwere shot last night and hopes for their speedy recovery.”\\n\\nMcCarthy said police were talking to “several people” about the shootings.\\nAld. Willie Cochran (20th) said police told him they have a “person of\\ninterest.”\\n\\nMcCarthy called the fact that no one was killed a miracle.\\n\\nOne of the victims, Niesha Brannon, was walking her dog when the shots rang\\nout.\\n\\n“I saw five or six bullets flying over my head, and before I knew it, I was\\nshot in the back,” Brannon said.\\n\\nBrannon was released from the hospital Friday morning. She showed reporters\\nthe bandage on her back.\\n\\nShe said the 3-year-old boy was petting her dog when the shooting began.\\n\\n“I turned my back from him, and that’s when the shots let off. By the time I\\nran, I was gone and all I could hear was screaming, ‘Tay-man Tay-man. He’s\\nshot,’” Brannon said.\\n\\n“I just heard a lot of screaming. Everyone’s shot. It was just too much. Too\\nmuch after that.”\\n\\nBrannon said she is struggling to make sense of it.\\n\\n“I could have died last night,” she said. “What child or what man would see\\nkids in the park and open fire like that? Who does that? You don’t have a\\nheart.”\\n\\nSome of the victims were Gangster Disciples, police said. They are\\ninvestigating whether the shooting stems from a conflict between the GDs and\\nthe Black P Stones.\\n\\nMcCarthy said police were getting “tons of cooperation” from residents, but\\nthe intended target was still unclear Friday afternoon.\\n\\nPolice were exploring whether the shootings were linked to two homes that were\\nshot up near the park Wednesday morning.\\n\\nThey also were reviewing video footage from a police surveillance camera. The\\nFBI was assisting in the case.\\n\\nThe 3-year-old boy shot Thursday night remained “heavily sedated” in intensive\\ncare Friday afternoon and was about to go in for another surgery, said the\\nRev. Corey Brooks of the New Beginnings Church.\\n\\nThe boy, Deonta “Tay-man” Howard, was shot in the cheek when bullets began to\\nfly about 10:15 p.m. Thursday at a basketball court in Cornell Square Park.\\n\\nThe bullet went in through the back of one ear and exited through his jaw,\\nBrooks said. “It’s a serious wound, but we do believe he’s going to be OK,”\\nBrooks said.\\n\\nDeonta and his mother were at the park with relatives, Brooks said, enjoying\\nthe warm late-summer weather.\\n\\nDeonta’s uncle Julian Harris, 22, said dreadlocked gunmen in a gray sedan\\nfired at him at the corner of Wood and 51st before turning north on Wood and\\nshooting into the park.\\n\\nAccording to other witnesses, two gunmen got out of the car and began firing.\\n\\n“They hit the light pole next to me, but I ducked down and ran into the\\nhouse,” Harris said. “They’ve been coming round here looking for people to\\nshoot every night — just gang-banging stuff. It’s what they do.”\\n\\nIn addition to the 13 shot in Cornell Park, two men were killed and nine other\\npeople were injured in gun violence throughout the city Thursday night.\\n\\nAt a news conference, McCarthy was asked about a national perception that\\ncrime is out of control in Chicago. He responded: “We are doing better — but\\nwe have a long way to go. ... Every time there’s a shooting in our community,\\nit’s a setback for us.”\\n\\nSo far this year, murder is down 21 percent compared with the same period of\\n2012 — 305 killings versus 389 — and shootings are down 23 percent, according\\nto the police department.\\n\\nBut Thursday night’s mass shooting put Chicago’s gun violence back in the\\nnational headlines, with one activist comparing it to the massacre in\\nWashington earlier in the week.\\n\\n“Just four days after the Navy Yard tragedy, it happened again,” said Capt.\\nMark Kelly, husband of wounded former congresswoman Gabrielle Giffords and co-\\nfounder of Americans for Responsible Solutions.\\n\\nOn Friday, Emanuel canceled meetings with two Cabinet members in Washington\\nand returned to Chicago in the wake of the shootings. He also canceled an\\nappearance at a New Jersey rally for Senate candidate Cory Booker.\\n\\nAfter cutting short his trip, Emanuel returned to City Hall, where he met\\nprivately with McCarthy to discuss the investigation and a strategy to prevent\\nthe gang conflict that triggered Thursday’s shootings from escalating.\\n\\nAfter huddling with McCarthy, Emanuel went to Mount Sinai Hospital about 1:15\\np.m., where he visited with shooting victims and their families for about 45\\nminutes.\\n\\nBrooks was in the room when Emanuel arrived to speak with Deonta’s family. “He\\nwas very consoling, very encouraging,” Brooks said. “It was a very touching\\nmeeting and much appreciated.”\\n\\nEmanuel later came to a prayer vigil with family, friends and victims of the\\nshootings, at Brooks’ New Beginnings Church of Chicago. The mayor sent out a\\nclear message that gangs do not belong in the city.\\n\\n“The parks in the city of Chicago belong to the families of the city of\\nChicago. The streets of the city of Chicago belong to the families of the city\\nof Chicago. The front stoops of our homes belong to the families of the city\\nof Chicago,” Mayor Emanuel said.\\n\\nDeonta’s grandmother Semehca Nunn urged the shooter to step forward. “If you\\nhave any kind of sympathy or a heart, you’ll turn yourself in,” Nunn said.\\n\\nNunn said her fiance was also shot, and was recovering at home from a gunshot\\nwound to the leg.\\n\\nDeonta’s aunt, Lavada Hardeman, 18, said her brother, Jerome “J Money” Wood,\\nwas killed on Labor Day.\\n\\n“I can’t catch a break,” Hardeman said.\\n\\nContributing:  Becky Schlikerman, Brian Slodysko and Kim Janssen\\n\\n* * *\\n\\n  \\n  \\n\\n![][9]\\n\\nShow / Hide Comments\\n\\n  \\n\\n(C) 2013 Sun-Times Media, LLC. All rights reserved. This material may not be\\ncopied or distributed without permission. For more information about reprints\\nand permissions, visit [ www.suntimesreprints.com ][10] . To order a reprint\\nof this article, [ click here ][10] .\\n\\n[ Special Home Delivery Offer ][11]\\n\\n[ Advertise Here ][12]\\n\\n   [1]: /csp/cms/sites/dt.common.streams.StreamServer.cls?STREAMOID=4JRuFmsSLRGh\\nyMqf$Fu1mc$daE2N3K4ZzOUsqbU5sYv2$NOS7UcMa2mgZ0yjeUEL6FB40xiOfUoExWL3M40tfzssyZqp\\neG_J0TFo7ZhRaDiHC9oxmioMlYVJD0A$3RbIiibgT65kY_CSDiCiUzvHvODrHApbd6ry6YGl5GGOZrs-\\n&CONTENTTYPE=image/jpeg\\n   [2]: //www.suntimes.com/news/crime/22676621-418/2-men-killed-9-people-injured\\n-in-gun-violence.html\\n   [3]: //www.suntimes.com/news/crime/22678686-418/13-shot-including-a-3-year-ol\\nd-boy-in-back-of-the-yards.html\\n   [4]: //www.suntimes.com/news/crime/22686511-418/violence-has-a-history-of-re-\\nshaping-mayoral-travel-plans.html\\n   [5]: //www.suntimes.com/news/crime/22691504-418/near-mass-shooting-2-houses-w\\nith-children-riddled-with-bullets.html\\n   [6]: //www.suntimes.com/news/crime/22699217-418/four-killed-four-injured-in-w\\neekend-violence.html\\n   [7]: //www.suntimes.com/news/crime/22710066-418/quinn-open-to-deploying-state\\n-police-to-chicago-to-curb-violence.html\\n   [8]: //www.suntimes.com/news/crime/22744153-418/two-charged-in-shooting-of-13\\n-in-south-side-park-neither-believed-triggerman.html\\n   [9]: /csp/cms/sites/STM/assets/img/gigya/comment_icon.gif\\n   [10]: http://www.suntimesreprints.com\\n   [11]: https://register.suntimesnewsgroup.com/clickshare/selectDeliveryPublica\\ntion.do \\n   [12]: http://www.suntimes.com/advertiser\\n']"
      ]
     },
     "execution_count": 20,
     "metadata": {},
     "output_type": "execute_result"
    }
   ],
   "source": [
    "reviews_train.top(1)"
   ]
  },
  {
   "cell_type": "code",
   "execution_count": 21,
   "metadata": {},
   "outputs": [
    {
     "name": "stderr",
     "output_type": "stream",
     "text": [
      "[nltk_data] Downloading package stopwords to\n",
      "[nltk_data]     /home/maria_dev/nltk_data...\n",
      "[nltk_data]   Package stopwords is already up-to-date!\n",
      "[nltk_data] Downloading package wordnet to\n",
      "[nltk_data]     /home/maria_dev/nltk_data...\n",
      "[nltk_data]   Package wordnet is already up-to-date!\n"
     ]
    }
   ],
   "source": [
    "import nltk\n",
    "nltk.download('stopwords')\n",
    "nltk.download('wordnet')\n",
    "StopWords = stopwords.words(\"english\")"
   ]
  },
  {
   "cell_type": "code",
   "execution_count": 22,
   "metadata": {},
   "outputs": [],
   "source": [
    "def tokenlize(doc):\n",
    "    import nltk, re\n",
    "    from nltk.corpus import stopwords\n",
    "    from nltk.corpus import wordnet\n",
    "\n",
    "    r = re.compile(r'[\\w]+')\n",
    "    my_stopwords = nltk.corpus.stopwords.words('english')\n",
    "    porter = nltk.PorterStemmer()\n",
    "\n",
    "    newdoc = []\n",
    "    for word in nltk.regexp_tokenize(doc, r): \n",
    "        newWord = porter.stem(word.lower()) \n",
    "        if newWord in my_stopwords: \n",
    "            continue\n",
    "        tokenSynsets = wordnet.synsets(newWord)\n",
    "        newdoc.append(newWord if tokenSynsets == [] else tokenSynsets[0].lemma_names()[0])\n",
    "    return newdoc"
   ]
  },
  {
   "cell_type": "code",
   "execution_count": 23,
   "metadata": {},
   "outputs": [],
   "source": [
    "traintokens = reviews_train.map( lambda doc: tokenlize(doc))\n",
    "testtokens = reviews_test.map( lambda doc: tokenlize(doc))"
   ]
  },
  {
   "cell_type": "code",
   "execution_count": 24,
   "metadata": {
    "scrolled": false
   },
   "outputs": [
    {
     "data": {
      "text/plain": [
       "MapPartitionsRDD[40] at mapPartitions at PythonMLLibAPI.scala:1339"
      ]
     },
     "execution_count": 24,
     "metadata": {},
     "output_type": "execute_result"
    }
   ],
   "source": [
    "from pyspark.mllib.feature import HashingTF\n",
    "hasingTF = HashingTF(2 ** 16)\n",
    "trainTf = hasingTF.transform(traintokens)\n",
    "trainTf.cache()\n",
    "from pyspark.mllib.feature import IDF\n",
    "idf = IDF().fit(trainTf)\n",
    "trainTfidf = idf.transform(trainTf)\n",
    "trainTfidf.cache()"
   ]
  },
  {
   "cell_type": "code",
   "execution_count": 25,
   "metadata": {},
   "outputs": [
    {
     "data": {
      "text/plain": [
       "PythonRDD[44] at RDD at PythonRDD.scala:48"
      ]
     },
     "execution_count": 25,
     "metadata": {},
     "output_type": "execute_result"
    }
   ],
   "source": [
    "from pyspark.mllib.regression import LabeledPoint\n",
    "trainLabels = dfsplit[0].rdd.map(lambda x : x['category_id'])\n",
    "train = trainLabels.zip(trainTfidf).map(lambda pair : LabeledPoint(pair[0], pair[1]))\n",
    "train.cache()"
   ]
  },
  {
   "cell_type": "code",
   "execution_count": 26,
   "metadata": {},
   "outputs": [],
   "source": [
    "from pyspark.mllib.feature import HashingTF\n",
    "testTf = hasingTF.transform(testtokens )"
   ]
  },
  {
   "cell_type": "code",
   "execution_count": 27,
   "metadata": {},
   "outputs": [],
   "source": [
    "testTfidf = idf.transform(testTf)"
   ]
  },
  {
   "cell_type": "code",
   "execution_count": 28,
   "metadata": {},
   "outputs": [
    {
     "data": {
      "text/plain": [
       "PythonRDD[52] at RDD at PythonRDD.scala:48"
      ]
     },
     "execution_count": 28,
     "metadata": {},
     "output_type": "execute_result"
    }
   ],
   "source": [
    "testLabels = dfsplit[1].rdd.map(lambda x : x['category_id'])\n",
    "test = testLabels.zip(testTfidf).map(lambda pair : LabeledPoint(pair[0], pair[1]))\n",
    "test.cache()"
   ]
  },
  {
   "cell_type": "code",
   "execution_count": 29,
   "metadata": {},
   "outputs": [],
   "source": [
    "# testLabels.count()"
   ]
  },
  {
   "cell_type": "code",
   "execution_count": 30,
   "metadata": {},
   "outputs": [],
   "source": [
    "# testTfidf.count()"
   ]
  },
  {
   "cell_type": "code",
   "execution_count": null,
   "metadata": {},
   "outputs": [],
   "source": []
  },
  {
   "cell_type": "code",
   "execution_count": null,
   "metadata": {},
   "outputs": [],
   "source": []
  },
  {
   "cell_type": "code",
   "execution_count": 31,
   "metadata": {},
   "outputs": [],
   "source": [
    "# test.first()"
   ]
  },
  {
   "cell_type": "code",
   "execution_count": 32,
   "metadata": {},
   "outputs": [],
   "source": [
    "testCount= test.count()"
   ]
  },
  {
   "cell_type": "code",
   "execution_count": 33,
   "metadata": {},
   "outputs": [
    {
     "name": "stdout",
     "output_type": "stream",
     "text": [
      "model trained\n"
     ]
    }
   ],
   "source": [
    "from pyspark.mllib.classification import NaiveBayes\n",
    "model = NaiveBayes.train(train, 0.1)\n",
    "print('model trained')"
   ]
  },
  {
   "cell_type": "code",
   "execution_count": 34,
   "metadata": {},
   "outputs": [
    {
     "name": "stdout",
     "output_type": "stream",
     "text": [
      "0.843298634582\n"
     ]
    }
   ],
   "source": [
    "predictionAndLabel = test.map(lambda p: (model.predict(p.features), p.label))\n",
    "accuracy = 1.0 * predictionAndLabel.filter(lambda x: x[0] == x[1]).count() / testCount\n",
    "print(accuracy)"
   ]
  },
  {
   "cell_type": "code",
   "execution_count": 35,
   "metadata": {},
   "outputs": [
    {
     "name": "stdout",
     "output_type": "stream",
     "text": [
      "model trained\n"
     ]
    }
   ],
   "source": [
    "from  pyspark.mllib.classification import LogisticRegressionWithLBFGS\n",
    "lrModel = LogisticRegressionWithLBFGS.train(train, iterations=10, numClasses=20) \n",
    "print('model trained')"
   ]
  },
  {
   "cell_type": "code",
   "execution_count": 36,
   "metadata": {},
   "outputs": [
    {
     "name": "stdout",
     "output_type": "stream",
     "text": [
      "0.862897120454\n"
     ]
    }
   ],
   "source": [
    "predictionAndLabel = test.map(lambda p: (lrModel.predict(p.features), p.label))\n",
    "accuracy = 1.0 * predictionAndLabel.filter(lambda x: x[0] == x[1]).count() / testCount\n",
    "print(accuracy )"
   ]
  },
  {
   "cell_type": "code",
   "execution_count": null,
   "metadata": {},
   "outputs": [],
   "source": []
  },
  {
   "cell_type": "code",
   "execution_count": null,
   "metadata": {},
   "outputs": [],
   "source": []
  },
  {
   "cell_type": "code",
   "execution_count": null,
   "metadata": {},
   "outputs": [],
   "source": []
  },
  {
   "cell_type": "code",
   "execution_count": null,
   "metadata": {},
   "outputs": [],
   "source": []
  },
  {
   "cell_type": "code",
   "execution_count": null,
   "metadata": {},
   "outputs": [],
   "source": []
  },
  {
   "cell_type": "code",
   "execution_count": null,
   "metadata": {},
   "outputs": [],
   "source": []
  }
 ],
 "metadata": {
  "kernelspec": {
   "display_name": "Python 3",
   "language": "python",
   "name": "python3"
  },
  "language_info": {
   "codemirror_mode": {
    "name": "ipython",
    "version": 3
   },
   "file_extension": ".py",
   "mimetype": "text/x-python",
   "name": "python",
   "nbconvert_exporter": "python",
   "pygments_lexer": "ipython3",
   "version": "3.6.5"
  }
 },
 "nbformat": 4,
 "nbformat_minor": 2
}
